{
 "cells": [
  {
   "cell_type": "markdown",
   "metadata": {},
   "source": [
    "텐서에는 node,edge로 구성. 전자는 operation,edge는 tensor로 실제로 데이터가 흘러감.\n",
    "\n",
    "메모리 할당하거나 어떤 값을 갖고있지 않으며 연산노드를 가리키는 객체에 가까운게 텐서다.\n",
    "\n",
    "rank,shape,type으로 이루어짐"
   ]
  },
  {
   "cell_type": "code",
   "execution_count": 1,
   "metadata": {},
   "outputs": [],
   "source": [
    "import tensorflow as tf"
   ]
  },
  {
   "cell_type": "code",
   "execution_count": 2,
   "metadata": {},
   "outputs": [],
   "source": [
    "data=[[2,0,81],[4,4,93],[6,2,91],[8,3,97]]\n",
    "x1=[i[0] for i in data]\n",
    "x2=[i[1] for i in data]\n",
    "y_data=[i[2] for i in data]"
   ]
  },
  {
   "cell_type": "code",
   "execution_count": 3,
   "metadata": {},
   "outputs": [],
   "source": [
    "a1=tf.Variable(tf.random_uniform([1],0,10,dtype=tf.float64,seed=0))\n",
    "a2=tf.Variable(tf.random_uniform([1],0,10,dtype=tf.float64,seed=0))\n",
    "b=tf.Variable(tf.random_uniform([1],0,100,dtype=tf.float64,seed=0))\n",
    "y=a1*x1+a2*x2+b"
   ]
  },
  {
   "cell_type": "code",
   "execution_count": 4,
   "metadata": {
    "collapsed": true
   },
   "outputs": [
    {
     "name": "stdout",
     "output_type": "stream",
     "text": [
      "epoch: 0,rmse=52.8096,기울기 a1 = 8.0636,기울기 a2=8.0665,y절편 b =80.6892\n",
      "R1 =96,R2=145,R3=145,R4=169\n",
      "epoch: 100,rmse=49.1480,기울기 a1 = 7.5218,기울기 a2=7.8133,y절편 b =80.5971\n",
      "R1 =95,R2=141,R3=141,R4=164\n",
      "epoch: 200,rmse=45.4883,기울기 a1 = 6.9803,기울기 a2=7.5597,y절편 b =80.5049\n",
      "R1 =94,R2=138,R3=137,R4=159\n",
      "epoch: 300,rmse=41.8311,기울기 a1 = 6.4393,기울기 a2=7.3057,y절편 b =80.4128\n",
      "R1 =93,R2=135,R3=133,R4=153\n",
      "epoch: 400,rmse=38.1769,기울기 a1 = 5.8988,기울기 a2=7.0512,y절편 b =80.3206\n",
      "R1 =92,R2=132,R3=129,R4=148\n",
      "epoch: 500,rmse=34.5267,기울기 a1 = 5.3589,기울기 a2=6.7961,y절편 b =80.2285\n",
      "R1 =90,R2=128,R3=125,R4=143\n",
      "epoch: 600,rmse=30.8820,기울기 a1 = 4.8199,기울기 a2=6.5403,y절편 b =80.1363\n",
      "R1 =89,R2=125,R3=122,R4=138\n",
      "epoch: 700,rmse=27.2448,기울기 a1 = 4.2820,기울기 a2=6.2836,y절편 b =80.0442\n",
      "R1 =88,R2=122,R3=118,R4=133\n",
      "epoch: 800,rmse=23.6184,기울기 a1 = 3.7456,기울기 a2=6.0258,y절편 b =79.9522\n",
      "R1 =87,R2=119,R3=114,R4=127\n",
      "epoch: 900,rmse=20.0086,기울기 a1 = 3.2114,기울기 a2=5.7667,y절편 b =79.8602\n",
      "R1 =86,R2=115,R3=110,R4=122\n",
      "epoch: 1000,rmse=16.4256,기울기 a1 = 2.6804,기울기 a2=5.5060,y절편 b =79.7683\n",
      "R1 =85,R2=112,R3=106,R4=117\n",
      "epoch: 1100,rmse=12.8908,기울기 a1 = 2.1551,기울기 a2=5.2431,y절편 b =79.6769\n",
      "R1 =83,R2=109,R3=103,R4=112\n",
      "epoch: 1200,rmse=9.4539,기울기 a1 = 1.6403,기울기 a2=4.9776,y절편 b =79.5863\n",
      "R1 =82,R2=106,R3=99,R4=107\n",
      "epoch: 1300,rmse=6.2572,기울기 a1 = 1.1501,기울기 a2=4.7100,y절편 b =79.4982\n",
      "R1 =81,R2=102,R3=95,R4=102\n",
      "epoch: 1400,rmse=3.7661,기울기 a1 = 0.7327,기울기 a2=4.4499,y절편 b =79.4192\n",
      "R1 =80,R2=100,R3=92,R4=98\n",
      "epoch: 1500,rmse=2.7266,기울기 a1 = 0.5041,기울기 a2=4.2400,y절편 b =79.3674\n",
      "R1 =80,R2=98,R3=90,R4=96\n",
      "epoch: 1600,rmse=2.4915,기울기 a1 = 0.4614,기울기 a2=4.0992,y절편 b =79.3446\n",
      "R1 =80,R2=97,R3=90,R4=95\n",
      "epoch: 1700,rmse=2.3588,기울기 a1 = 0.4867,기울기 a2=3.9879,y절편 b =79.3326\n",
      "R1 =80,R2=97,R3=90,R4=95\n",
      "epoch: 1800,rmse=2.2334,기울기 a1 = 0.5291,기울기 a2=3.8848,y절편 b =79.3230\n",
      "R1 =80,R2=96,R3=90,R4=95\n",
      "epoch: 1900,rmse=2.1093,기울기 a1 = 0.5753,기울기 a2=3.7839,y절편 b =79.3135\n",
      "R1 =80,R2=96,R3=90,R4=95\n",
      "epoch: 2000,rmse=1.9866,기울기 a1 = 0.6220,기울기 a2=3.6839,y절편 b =79.3036\n",
      "R1 =80,R2=96,R3=90,R4=95\n",
      "epoch: 2100,rmse=1.8652,기울기 a1 = 0.6688,기울기 a2=3.5847,y절편 b =79.2931\n",
      "R1 =80,R2=96,R3=90,R4=95\n",
      "epoch: 2200,rmse=1.7456,기울기 a1 = 0.7153,기울기 a2=3.4863,y절편 b =79.2818\n",
      "R1 =80,R2=96,R3=90,R4=95\n",
      "epoch: 2300,rmse=1.6279,기울기 a1 = 0.7615,기울기 a2=3.3890,y절편 b =79.2698\n",
      "R1 =80,R2=95,R3=90,R4=95\n",
      "epoch: 2400,rmse=1.5127,기울기 a1 = 0.8073,기울기 a2=3.2927,y절편 b =79.2569\n",
      "R1 =80,R2=95,R3=90,R4=95\n",
      "epoch: 2500,rmse=1.4003,기울기 a1 = 0.8527,기울기 a2=3.1979,y절편 b =79.2431\n",
      "R1 =80,R2=95,R3=90,R4=95\n",
      "epoch: 2600,rmse=1.2912,기울기 a1 = 0.8975,기울기 a2=3.1048,y절편 b =79.2281\n",
      "R1 =81,R2=95,R3=90,R4=95\n",
      "epoch: 2700,rmse=1.1864,기울기 a1 = 0.9415,기울기 a2=3.0137,y절편 b =79.2119\n",
      "R1 =81,R2=95,R3=90,R4=95\n",
      "epoch: 2800,rmse=1.0864,기울기 a1 = 0.9846,기울기 a2=2.9253,y절편 b =79.1943\n",
      "R1 =81,R2=94,R3=90,R4=95\n",
      "epoch: 2900,rmse=0.9924,기울기 a1 = 1.0265,기울기 a2=2.8399,y절편 b =79.1752\n",
      "R1 =81,R2=94,R3=91,R4=95\n",
      "epoch: 3000,rmse=0.9054,기울기 a1 = 1.0670,기울기 a2=2.7585,y절편 b =79.1544\n",
      "R1 =81,R2=94,R3=91,R4=95\n",
      "epoch: 3100,rmse=0.8266,기울기 a1 = 1.1056,기울기 a2=2.6818,y절편 b =79.1319\n",
      "R1 =81,R2=94,R3=91,R4=96\n",
      "epoch: 3200,rmse=0.7568,기울기 a1 = 1.1419,기울기 a2=2.6107,y절편 b =79.1076\n",
      "R1 =81,R2=94,R3=91,R4=96\n",
      "epoch: 3300,rmse=0.6969,기울기 a1 = 1.1757,기울기 a2=2.5460,y절편 b =79.0814\n",
      "R1 =81,R2=93,R3=91,R4=96\n",
      "epoch: 3400,rmse=0.6467,기울기 a1 = 1.2064,기울기 a2=2.4887,y절편 b =79.0536\n",
      "R1 =81,R2=93,R3=91,R4=96\n",
      "epoch: 3500,rmse=0.6059,기울기 a1 = 1.2338,기울기 a2=2.4390,y절편 b =79.0243\n",
      "R1 =81,R2=93,R3=91,R4=96\n",
      "epoch: 3600,rmse=0.5731,기울기 a1 = 1.2580,기울기 a2=2.3970,y절편 b =78.9939\n",
      "R1 =81,R2=93,R3=91,R4=96\n",
      "epoch: 3700,rmse=0.5469,기울기 a1 = 1.2790,기울기 a2=2.3624,y절편 b =78.9626\n",
      "R1 =81,R2=93,R3=91,R4=96\n",
      "epoch: 3800,rmse=0.5257,기울기 a1 = 1.2970,기울기 a2=2.3345,y절편 b =78.9308\n",
      "R1 =81,R2=93,R3=91,R4=96\n",
      "epoch: 3900,rmse=0.5081,기울기 a1 = 1.3124,기울기 a2=2.3124,y절편 b =78.8986\n",
      "R1 =81,R2=93,R3=91,R4=96\n",
      "epoch: 4000,rmse=0.4930,기울기 a1 = 1.3256,기울기 a2=2.2953,y절편 b =78.8664\n",
      "R1 =81,R2=93,R3=91,R4=96\n",
      "epoch: 4100,rmse=0.4797,기울기 a1 = 1.3370,기울기 a2=2.2823,y절편 b =78.8342\n",
      "R1 =81,R2=93,R3=91,R4=96\n",
      "epoch: 4200,rmse=0.4675,기울기 a1 = 1.3468,기울기 a2=2.2725,y절편 b =78.8021\n",
      "R1 =81,R2=93,R3=91,R4=96\n",
      "epoch: 4300,rmse=0.4561,기울기 a1 = 1.3554,기울기 a2=2.2654,y절편 b =78.7703\n",
      "R1 =81,R2=93,R3=91,R4=96\n",
      "epoch: 4400,rmse=0.4453,기울기 a1 = 1.3630,기울기 a2=2.2603,y절편 b =78.7388\n",
      "R1 =81,R2=93,R3=91,R4=96\n",
      "epoch: 4500,rmse=0.4351,기울기 a1 = 1.3698,기울기 a2=2.2569,y절편 b =78.7077\n",
      "R1 =81,R2=93,R3=91,R4=96\n",
      "epoch: 4600,rmse=0.4252,기울기 a1 = 1.3760,기울기 a2=2.2547,y절편 b =78.6769\n",
      "R1 =81,R2=93,R3=91,R4=96\n",
      "epoch: 4700,rmse=0.4156,기울기 a1 = 1.3817,기울기 a2=2.2534,y절편 b =78.6466\n",
      "R1 =81,R2=93,R3=91,R4=96\n",
      "epoch: 4800,rmse=0.4064,기울기 a1 = 1.3870,기울기 a2=2.2528,y절편 b =78.6167\n",
      "R1 =81,R2=93,R3=91,R4=96\n",
      "epoch: 4900,rmse=0.3976,기울기 a1 = 1.3919,기울기 a2=2.2528,y절편 b =78.5874\n",
      "R1 =81,R2=93,R3=91,R4=96\n",
      "epoch: 5000,rmse=0.3890,기울기 a1 = 1.3966,기울기 a2=2.2531,y절편 b =78.5585\n",
      "R1 =81,R2=93,R3=91,R4=96\n"
     ]
    }
   ],
   "source": [
    "rmse=tf.sqrt(tf.reduce_mean(tf.square(y-y_data)))\n",
    "learning_rate=0.001\n",
    "gradient_descent=tf.train.GradientDescentOptimizer(learning_rate).minimize(rmse)\n",
    "with tf.Session() as sess:\n",
    "    sess.run(tf.global_variables_initializer())\n",
    "    for step in range(5001):\n",
    "        sess.run(gradient_descent)\n",
    "        if step%100==0:\n",
    "            print('epoch: %.f,rmse=%.4f,기울기 a1 = %.4f,기울기 a2=%.4f,y절편 b =%.4f'%(step,sess.run(rmse),sess.run(a1),sess.run(a2),sess.run(b)))\n",
    "            z=sess.run(y)\n",
    "            print('R1 =%d,R2=%d,R3=%d,R4=%d'%(z[0],z[1],z[2],z[3]))\n",
    "#랜덤값을 주는 이유:엉뚱한 곳을 잡으면 시간이 많이 걸리기 때문. 값을 한정한 데서 시간을 줄임."
   ]
  },
  {
   "cell_type": "markdown",
   "metadata": {},
   "source": [
    "a,a2,b,x,rmse는 텐서이지만 gradient decent는 train이므로 train에 저장되어있는 gradient descent optimizer 함수를 이용하여 optimizer라는 operation을 만들고 cost를 줄이는게 목적. minimize를 호출시켜 우리가 값을 줄이고자 하는 cost 전달"
   ]
  },
  {
   "cell_type": "code",
   "execution_count": 5,
   "metadata": {},
   "outputs": [],
   "source": [
    "import numpy as np"
   ]
  },
  {
   "cell_type": "code",
   "execution_count": 15,
   "metadata": {},
   "outputs": [],
   "source": [
    "blood_fat=np.loadtxt('Blood_fat.csv',delimiter=',')"
   ]
  },
  {
   "cell_type": "code",
   "execution_count": 27,
   "metadata": {},
   "outputs": [],
   "source": [
    "x1=[xrow[0] for xrow in blood_fat]\n",
    "x2=[xrow[1] for xrow in blood_fat]\n",
    "y_data=[xrow[2] for xrow in blood_fat]"
   ]
  },
  {
   "cell_type": "code",
   "execution_count": 28,
   "metadata": {},
   "outputs": [],
   "source": [
    "a1=tf.Variable(tf.random_uniform([1],0,10,dtype=tf.float64,seed=0))\n",
    "a2=tf.Variable(tf.random_uniform([1],0,10,dtype=tf.float64,seed=0))\n",
    "b=tf.Variable(tf.random_uniform([1],0,100,dtype=tf.float64,seed=0))\n",
    "y=a1*x1+a2*x2+b"
   ]
  },
  {
   "cell_type": "code",
   "execution_count": 31,
   "metadata": {
    "collapsed": true
   },
   "outputs": [
    {
     "name": "stdout",
     "output_type": "stream",
     "text": [
      "epoch: 0,rmse=643.9146,기울기 a1 = 7.9995,기울기 a2=8.0295,y절편 b =80.6891\n",
      "[7.99945558] [8.02947076] [80.68914637]\n",
      "epoch: 100,rmse=51.0198,기울기 a1 = 1.2999,기울기 a2=4.2778,y절편 b =80.5946\n",
      "[1.29992372] [4.27776566] [80.59463733]\n",
      "epoch: 200,rmse=42.6573,기울기 a1 = 0.8654,기울기 a2=4.3693,y절편 b =80.5900\n",
      "[0.86542757] [4.36930983] [80.58996441]\n",
      "epoch: 300,rmse=42.1239,기울기 a1 = 0.7509,기울기 a2=4.5693,y절편 b =80.5895\n",
      "[0.75094944] [4.56931597] [80.58945714]\n",
      "epoch: 400,rmse=41.8101,기울기 a1 = 0.6632,기울기 a2=4.7227,y절편 b =80.5890\n",
      "[0.6631554] [4.72270311] [80.58902581]\n",
      "epoch: 500,rmse=41.6278,기울기 a1 = 0.5962,기울기 a2=4.8396,y절편 b =80.5887\n",
      "[0.59624432] [4.83960617] [80.58865424]\n",
      "epoch: 600,rmse=41.5226,기울기 a1 = 0.5454,기울기 a2=4.9284,y절편 b =80.5883\n",
      "[0.54543868] [4.92837184] [80.58832896]\n",
      "epoch: 700,rmse=41.4623,기울기 a1 = 0.5069,기울기 a2=4.9956,y절편 b =80.5880\n",
      "[0.50694617] [4.99562554] [80.58803917]\n",
      "epoch: 800,rmse=41.4277,기울기 a1 = 0.4778,기울기 a2=5.0465,y절편 b =80.5878\n",
      "[0.47781962] [5.04651621] [80.58777646]\n",
      "epoch: 900,rmse=41.4080,기울기 a1 = 0.4558,기울기 a2=5.0850,y절편 b =80.5875\n",
      "[0.45579629] [5.08499705] [80.58753432]\n",
      "epoch: 1000,rmse=41.3967,기울기 a1 = 0.4392,기울기 a2=5.1141,y절편 b =80.5873\n",
      "[0.43915095] [5.11408211] [80.58730777]\n",
      "epoch: 1100,rmse=41.3902,기울기 a1 = 0.4266,기울기 a2=5.1361,y절편 b =80.5871\n",
      "[0.42657345] [5.13606035] [80.58709304]\n",
      "epoch: 1200,rmse=41.3865,기울기 a1 = 0.4171,기울기 a2=5.1527,y절편 b =80.5869\n",
      "[0.41707111] [5.15266606] [80.58688724]\n",
      "epoch: 1300,rmse=41.3844,기울기 a1 = 0.4099,기울기 a2=5.1652,y절편 b =80.5867\n",
      "[0.40989274] [5.16521161] [80.58668821]\n",
      "epoch: 1400,rmse=41.3832,기울기 a1 = 0.4045,기울기 a2=5.1747,y절편 b =80.5865\n",
      "[0.40447034] [5.17468937] [80.5864943]\n",
      "epoch: 1500,rmse=41.3826,기울기 a1 = 0.4004,기울기 a2=5.1818,y절편 b =80.5863\n",
      "[0.40037458] [5.18184938] [80.58630425]\n",
      "epoch: 1600,rmse=41.3822,기울기 a1 = 0.3973,기울기 a2=5.1873,y절편 b =80.5861\n",
      "[0.39728106] [5.1872584] [80.58611713]\n",
      "epoch: 1700,rmse=41.3819,기울기 a1 = 0.3949,기울기 a2=5.1913,y절편 b =80.5859\n",
      "[0.39494466] [5.19134466] [80.58593223]\n",
      "epoch: 1800,rmse=41.3818,기울기 a1 = 0.3932,기울기 a2=5.1944,y절편 b =80.5857\n",
      "[0.39318022] [5.19443168] [80.585749]\n",
      "epoch: 1900,rmse=41.3817,기울기 a1 = 0.3918,기울기 a2=5.1968,y절편 b =80.5856\n",
      "[0.39184785] [5.19676385] [80.58556704]\n",
      "epoch: 2000,rmse=41.3817,기울기 a1 = 0.3908,기울기 a2=5.1985,y절편 b =80.5854\n",
      "[0.39084186] [5.19852579] [80.58538604]\n",
      "[352.54828853] 354.0\n",
      "[213.08735745] 190.0\n",
      "[376.31344802] 405.0\n",
      "[263.90008982] 263.0\n",
      "[406.60533742] 451.0\n",
      "[237.516619] 302.0\n",
      "[250.76714524] 288.0\n",
      "[295.8729283] 385.0\n",
      "[407.77786299] 402.0\n",
      "[338.63366023] 365.0\n",
      "[215.90273523] 209.0\n",
      "[276.52461089] 290.0\n",
      "[376.31344802] 346.0\n",
      "[222.42946513] 254.0\n",
      "[415.55660324] 395.0\n",
      "[357.08271227] 434.0\n",
      "[280.78577444] 220.0\n",
      "[376.58670822] 374.0\n",
      "[369.824815] 308.0\n",
      "[289.38429528] 220.0\n"
     ]
    }
   ],
   "source": [
    "rmse=tf.sqrt(tf.reduce_mean(tf.square(y-y_data)))\n",
    "learning_rate=0.001\n",
    "gradient_descent=tf.train.GradientDescentOptimizer(learning_rate).minimize(rmse)\n",
    "with tf.Session() as sess:\n",
    "    sess.run(tf.global_variables_initializer())\n",
    "    for step in range(2001):\n",
    "        sess.run(gradient_descent)#오차를 최소화하는 알고리즘.그 자체의 그래프를 돌림\n",
    "        if step%100==0:           \n",
    "            print('epoch: %.f,rmse=%.4f,기울기 a1 = %.4f,기울기 a2=%.4f,y절편 b=%.4f'%(step,sess.run(rmse),sess.run(a1),sess.run(a2),sess.run(b)))\n",
    "            #rmse,a,b는 텐서임.값을 볼려면 run을 시켜줘야함.\n",
    "            z=sess.run(y)#session 상태에서 안돌리면 그래프임.\n",
    "            #z는 배열의 시작 주소.\n",
    "            da1=sess.run(a1)\n",
    "            da2=sess.run(a2)\n",
    "            db=sess.run(b)\n",
    "            print(da1,da2,db)\n",
    "    for i in range(20):\n",
    "        print((da1*x1[i]+da2*x2[i]+db),y_data[i])"
   ]
  },
  {
   "cell_type": "code",
   "execution_count": 22,
   "metadata": {},
   "outputs": [],
   "source": [
    "import matplotlib.pyplot as plt\n",
    "from mpl_toolkits.mplot3d import Axes3D"
   ]
  },
  {
   "cell_type": "code",
   "execution_count": 30,
   "metadata": {
    "collapsed": true
   },
   "outputs": [
    {
     "data": {
      "image/png": "[encoded data removed]",
      "text/plain": [
       "<Figure size 864x864 with 1 Axes>"
      ]
     },
     "metadata": {
      "needs_background": "light"
     },
     "output_type": "display_data"
    }
   ],
   "source": [
    "fig=plt.figure(figsize=(12,12))\n",
    "ax=fig.add_subplot(111,projection='3d')\n",
    "ax.scatter(x1,x2,y_data)\n",
    "ax.set_xlabel('weight')\n",
    "ax.set_ylabel('age')\n",
    "ax.set_zlabel('blood fat')\n",
    "ax.view_init(15,15)\n",
    "plt.show()"
   ]
  },
  {
   "cell_type": "markdown",
   "metadata": {},
   "source": [
    "# 로지스틱 회귀"
   ]
  },
  {
   "cell_type": "markdown",
   "metadata": {},
   "source": [
    "참/거짓을 구분하는 로지스틱회귀-> 참,거짓 미니 판단 장치를 만들어 주어진 입력값의 특징 추출\n",
    "\n",
    "머신러닝 딥러닝의 차이:최근 가장많이사용하는게 머신러닝. 그 중에 가장 많이 사용하는게 딥러닝.딥러닝은 깊이가 있는 러닝.입력과 출력의 존재만으로 선형회귀,로지스틱을 할 수 있는게 머신러닝. 딥러닝은 입력과 출력 속에 은닉층을 두게 됨.보이지 않는 곳으로 들어가 심층학습을 한다는 의미다.\n",
    "\n",
    "a값이 커지면 경사가 커지고 아니면 작아짐.\n",
    "\n",
    "a값이 작아지면 오차는 커지고 커진다 해서 오차가 무한대로 커지진 않음. a가 커질수록 오차가 작아짐.\n",
    "\n",
    "b값은 너무 크거나 작을 경우 오차가 무한대로 커지므로 이차함수 그래프로 표현 가능\n",
    "\n",
    "\n",
    "sigmoid 함수에 비용 함수를 평균제곱오차로 하여 그래프를 그리면 로컬미니멈,글로벌미니멈 발생.경사하강법을 사용할 때 잘못된 최소값에 빠짐. 이를 전체함수에 걸쳐 최소인 글로벌이 아닌 특정 구역에서 최소인 로컬 미니멈에 도달했다고 표현. 이는 cost가 최소가 되는 가중치를 찾는다는 비용 함수의 목적에 맞지 않음\n",
    "\n",
    "실제가 1인데 1에 가까워지면 오차 커지고 반대일 경우에도 마찬가지. 이를 공식으로 쓸 수 있는게 로그함수.\n",
    "\n",
    "=>로지스틱 회귀에서 w를 최소로 만드는 새로운 비용함수를 찾아야함. 0~1 사이의 정보로 표현되는 조건을 충족하기 위해 -logx와 -log(1-x)를 사용\n",
    "\n",
    "목적함수: 가중치를 최소화하는 함수"
   ]
  },
  {
   "cell_type": "code",
   "execution_count": 1,
   "metadata": {},
   "outputs": [],
   "source": [
    "import tensorflow as tf\n",
    "import numpy as np"
   ]
  },
  {
   "cell_type": "code",
   "execution_count": 30,
   "metadata": {},
   "outputs": [],
   "source": [
    "data=[[2,0],[4,0],[6,0],[8,1],[10,1],[12,1],[14,1]]\n",
    "x_data=[x[0] for x in data]\n",
    "y_data=[x[1] for x in data]\n",
    "\n",
    "a=tf.Variable(tf.random_normal([1],dtype=tf.float64,seed=0))\n",
    "b=tf.Variable(tf.random_normal([1],dtype=tf.float64,seed=0))\n",
    "#uniform은 그 값의 데이터들은 균일함.평소엔 대부분 그 값범위 내에서 \n",
    "#시작함.\n",
    "#uniform은 동일한 확률에서 나옴\n",
    "#normal에선 범위가 지정되지 않았지만 정규분포로부터 난수값을 받음.\n",
    "#일정 값을 뽑아내지만 정규분포의 평균과 표준편차 내에서 받음.\n",
    "#선형회귀에서는 특정 범위에서 찾기 편함\n",
    "\n",
    "y=1/(1+np.e**-(a*x_data+b))"
   ]
  },
  {
   "cell_type": "code",
   "execution_count": 31,
   "metadata": {
    "collapsed": true
   },
   "outputs": [
    {
     "name": "stdout",
     "output_type": "stream",
     "text": [
      "epoch: 0,loss=4.0817,기울기 a=2.4706,y절편 : -0.3620\n",
      "epoch: 6000,loss=0.0152,기울기 a=2.9230,y절편 : -20.3114\n",
      "epoch: 12000,loss=0.0081,기울기 a=3.5648,y절편 : -24.8081\n",
      "epoch: 18000,loss=0.0055,기울기 a=3.9564,y절편 : -27.5511\n",
      "epoch: 24000,loss=0.0041,기울기 a=4.2385,y절편 : -29.5268\n",
      "epoch: 30000,loss=0.0033,기울기 a=4.4590,y절편 : -31.0705\n",
      "epoch: 36000,loss=0.0028,기울기 a=4.6399,y절편 : -32.3371\n",
      "epoch: 42000,loss=0.0024,기울기 a=4.7933,y절편 : -33.4107\n",
      "epoch: 48000,loss=0.0021,기울기 a=4.9263,y절편 : -34.3424\n",
      "epoch: 54000,loss=0.0019,기울기 a=5.0439,y절편 : -35.1653\n",
      "epoch: 60000,loss=0.0017,기울기 a=5.1491,y절편 : -35.9020\n",
      "[3.88235157e-05]\n",
      "[0.53537986]\n",
      "[1.]\n",
      "Tensor(\"truediv_27:0\", shape=(1,), dtype=float64)\n"
     ]
    }
   ],
   "source": [
    "loss=-tf.reduce_mean(np.array(y_data)*tf.log(y)+(1-np.array(y_data))*tf.log(1-y))\n",
    "learning_rate=0.5\n",
    "gradient_decent=tf.train.GradientDescentOptimizer(learning_rate).minimize(loss)\n",
    "with tf.Session() as sess:\n",
    "    sess.run(tf.global_variables_initializer())\n",
    "    for i in range(60001):\n",
    "        sess.run(gradient_decent)\n",
    "        if i%6000==0:\n",
    "            print('epoch: %.f,loss=%.4f,기울기 a=%.4f,y절편 : %.4f'%\n",
    "                 (i,sess.run(loss),sess.run(a),sess.run(b)))\n",
    "            #z=sess.run(y)\n",
    "            #da=sess.run(a)\n",
    "            #db=sess.run(b)\n",
    "    #x_d=[5,7,13]\n",
    "    #for i in range(len(x_d)):\n",
    "        #print('if %d = %.f'%(x_d[i],1/(1+np.e**(da*x_d[i]+db))))\n",
    "        \n",
    "    new_x_data=5\n",
    "    y_test=1/(1+np.e**-((a*new_x_data)+b))\n",
    "    print(sess.run(y_test))\n",
    "    \n",
    "    new_x_data=7\n",
    "    y_test=1/(1+np.e**-((a*new_x_data)+b))\n",
    "    print(sess.run(y_test))\n",
    "    \n",
    "    new_x_data=13\n",
    "    y_test=1/(1+np.e**-((a*new_x_data)+b))\n",
    "    print(sess.run(y_test))\n",
    "    \n",
    "    print(y_test)"
   ]
  },
  {
   "cell_type": "code",
   "execution_count": 10,
   "metadata": {},
   "outputs": [
    {
     "name": "stdout",
     "output_type": "stream",
     "text": [
      "epoch: 0,loss=1.3590,기울기 a=-0.6180,y절편 : -0.6303\n",
      "epoch: 6000,loss=0.1770,기울기 a=-0.6512,y절편 : 4.1848\n",
      "epoch: 12000,loss=0.1248,기울기 a=-0.8862,y절편 : 5.9174\n",
      "epoch: 18000,loss=0.1018,기울기 a=-1.0467,y절편 : 7.0781\n",
      "epoch: 24000,loss=0.0878,기울기 a=-1.1732,y절편 : 7.9849\n",
      "epoch: 30000,loss=0.0779,기울기 a=-1.2796,y절편 : 8.7440\n",
      "epoch: 36000,loss=0.0705,기울기 a=-1.3725,y절편 : 9.4043\n",
      "epoch: 42000,loss=0.0646,기울기 a=-1.4556,y절편 : 9.9931\n",
      "epoch: 48000,loss=0.0598,기울기 a=-1.5310,y절편 : 10.5269\n",
      "epoch: 54000,loss=0.0557,기울기 a=-1.6003,y절편 : 11.0169\n",
      "epoch: 60000,loss=0.0522,기울기 a=-1.6646,y절편 : 11.4708\n"
     ]
    }
   ],
   "source": [
    "loss=-tf.reduce_mean(np.array(y_data)*tf.log(y)+(1-np.array(y_data))*tf.log(1-y))\n",
    "learning_rate=0.01 #연산식이 없음.아날로그적.초파라미터임.경험치를 통해서 나타냄.\n",
    "gradient_decent=tf.train.GradientDescentOptimizer(learning_rate).minimize(loss)\n",
    "with tf.Session() as sess:\n",
    "    sess.run(tf.global_variables_initializer())\n",
    "    for i in range(60001):\n",
    "        sess.run(gradient_decent)\n",
    "        if i%6000==0:\n",
    "            print('epoch: %.f,loss=%.4f,기울기 a=%.4f,y절편 : %.4f'%\n",
    "                 (i,sess.run(loss),sess.run(a),sess.run(b)))"
   ]
  },
  {
   "cell_type": "code",
   "execution_count": 21,
   "metadata": {},
   "outputs": [],
   "source": [
    "x_data=np.array([[2,3],[4,3],[6,4],[8,6],[10,7],[12,8],[14,9]])\n",
    "y_data=np.array([0,0,0,1,1,1,1]).reshape(7,1)"
   ]
  },
  {
   "cell_type": "markdown",
   "metadata": {},
   "source": [
    "복사하여 값을 변경할 경우 원본의 값도 변경되는 것이 numpy 배열\n",
    "\n",
    "a는 주소를 의미함.b는 a의 주소를 나타냄(a=b)"
   ]
  },
  {
   "cell_type": "code",
   "execution_count": 32,
   "metadata": {},
   "outputs": [
    {
     "name": "stdout",
     "output_type": "stream",
     "text": [
      "(1, 3)\n"
     ]
    }
   ],
   "source": [
    "x=tf.constant([[1.0,2.0,3.0]])\n",
    "w=tf.constant([[2.0],[2.0],[2.0]])\n",
    "y=tf.matmul(x,w)\n",
    "print(x.get_shape())"
   ]
  },
  {
   "cell_type": "code",
   "execution_count": 33,
   "metadata": {},
   "outputs": [
    {
     "name": "stdout",
     "output_type": "stream",
     "text": [
      "[[12.]]\n"
     ]
    }
   ],
   "source": [
    "sess=tf.Session()\n",
    "sess.run(tf.global_variables_initializer())\n",
    "result=sess.run(y)\n",
    "print(result)"
   ]
  },
  {
   "cell_type": "code",
   "execution_count": 34,
   "metadata": {},
   "outputs": [],
   "source": [
    "x=tf.constant([[1.,2.,3.]])\n",
    "w=tf.constant([[2.],[2.],[2.]])\n",
    "y=tf.matmul(x,w)"
   ]
  },
  {
   "cell_type": "code",
   "execution_count": 35,
   "metadata": {},
   "outputs": [
    {
     "name": "stdout",
     "output_type": "stream",
     "text": [
      "[[12.]]\n"
     ]
    }
   ],
   "source": [
    "sess=tf.Session()\n",
    "sess.run(tf.global_variables_initializer())\n",
    "result=sess.run(y)\n",
    "print(result)"
   ]
  },
  {
   "cell_type": "code",
   "execution_count": 36,
   "metadata": {},
   "outputs": [],
   "source": [
    "input_data=[[1.,2.,3.],[1.,2.,3.],[2.,3.,4.]]\n",
    "x=tf.placeholder(dtype=tf.float32,shape=[None,3])\n",
    "w=tf.Variable([[2.],[2.],[2.]],dtype=tf.float32)\n",
    "y=tf.matmul(x,w)\n",
    "sess=tf.Session()\n",
    "sess.run(tf.global_variables_initializer())\n",
    "result=sess.run(y,feed_dict={x:input_data})"
   ]
  },
  {
   "cell_type": "code",
   "execution_count": 37,
   "metadata": {},
   "outputs": [
    {
     "name": "stdout",
     "output_type": "stream",
     "text": [
      "[[12.]\n",
      " [12.]\n",
      " [18.]]\n"
     ]
    }
   ],
   "source": [
    "print(result)"
   ]
  },
  {
   "cell_type": "code",
   "execution_count": 39,
   "metadata": {},
   "outputs": [
    {
     "name": "stdout",
     "output_type": "stream",
     "text": [
      "(2, 3)\n",
      "[[10.]\n",
      " [16.]]\n"
     ]
    }
   ],
   "source": [
    "input_data=[[1,1,1],[2,2,2]]\n",
    "x=tf.placeholder(dtype=tf.float32,shape=[2,3])\n",
    "w=tf.Variable([[2],[2],[2]],dtype=tf.float32)\n",
    "b=tf.Variable([4],dtype=tf.float32)\n",
    "y=tf.matmul(x,w)+b\n",
    "print(x.get_shape())\n",
    "\n",
    "sess=tf.Session()\n",
    "sess.run(tf.global_variables_initializer())\n",
    "result=sess.run(y,feed_dict={x:input_data})\n",
    "print(result)"
   ]
  },
  {
   "cell_type": "code",
   "execution_count": 1,
   "metadata": {},
   "outputs": [],
   "source": [
    "import numpy as np\n",
    "import tensorflow as tf"
   ]
  },
  {
   "cell_type": "code",
   "execution_count": 2,
   "metadata": {},
   "outputs": [],
   "source": [
    "x_data=np.array([[2,3],[4,3],[6,4],[8,6],[10,7],[12,8],[14,9]])\n",
    "y_data=np.array([0,0,0,1,1,1,1]).reshape(7,1)\n",
    "np.random.seed(0)\n",
    "tf.set_random_seed(0)#실행할 때마다 같은 결과 출력을 위함"
   ]
  },
  {
   "cell_type": "code",
   "execution_count": 3,
   "metadata": {},
   "outputs": [],
   "source": [
    "X=tf.placeholder(tf.float64, shape=[None,2])\n",
    "Y=tf.placeholder(tf.float64, shape=[None,1])\n",
    "a=tf.Variable(tf.random_uniform([2,1],dtype=tf.float64))#들어오는 값2개 나가는값 1개\n",
    "b=tf.Variable(tf.random_uniform([1],dtype=tf.float64))\n",
    "y=tf.sigmoid(tf.matmul(X,a)+b)"
   ]
  },
  {
   "cell_type": "code",
   "execution_count": 4,
   "metadata": {},
   "outputs": [],
   "source": [
    "loss=-tf.reduce_mean(Y*tf.log(y)+(1-Y)*tf.log(1-y))\n",
    "learning_rate=0.1\n",
    "gradient_decent=tf.train.GradientDescentOptimizer(learning_rate).minimize(loss)"
   ]
  },
  {
   "cell_type": "code",
   "execution_count": 5,
   "metadata": {},
   "outputs": [
    {
     "name": "stdout",
     "output_type": "stream",
     "text": [
      "step: 300,a1= 0.8426,a2= -0.5997,b= -2.3907,loss= 0.2694\n",
      "step: 600,a1= 0.8348,a2= -0.3166,b= -3.8630,loss= 0.1932\n",
      "step: 900,a1= 0.7423,a2= 0.0153,b= -4.9311,loss= 0.1510\n",
      "step: 1200,a1= 0.6372,a2= 0.3245,b= -5.7765,loss= 0.1235\n",
      "step: 1500,a1= 0.5373,a2= 0.5996,b= -6.4775,loss= 0.1042\n",
      "step: 1800,a1= 0.4471,a2= 0.8421,b= -7.0768,loss= 0.0900\n",
      "step: 2100,a1= 0.3670,a2= 1.0561,b= -7.6003,loss= 0.0791\n",
      "step: 2400,a1= 0.2962,a2= 1.2458,b= -8.0652,loss= 0.0705\n",
      "step: 2700,a1= 0.2336,a2= 1.4152,b= -8.4834,loss= 0.0636\n",
      "step: 3000,a1= 0.1779,a2= 1.5675,b= -8.8635,loss= 0.0579\n",
      "predicted= [[0.]\n",
      " [0.]\n",
      " [0.]\n",
      " [1.]\n",
      " [1.]\n",
      " [1.]\n",
      " [1.]]\n",
      "check predicted =  [[0.]\n",
      " [1.]\n",
      " [0.]]\n",
      "check hypothests =  [[0.30010201]\n",
      " [0.67976582]\n",
      " [0.42222581]]\n",
      "\n",
      "Hypothesis:  [[0.02177143]\n",
      " [0.03077785]\n",
      " [0.17854677]\n",
      " [0.87710296]\n",
      " [0.97993976]\n",
      " [0.99701815]\n",
      " [0.99956324]] \n",
      "Correct (Y): [[0.]\n",
      " [0.]\n",
      " [0.]\n",
      " [1.]\n",
      " [1.]\n",
      " [1.]\n",
      " [1.]] \n",
      "Accuracy:  1.0\n"
     ]
    }
   ],
   "source": [
    "predicted=tf.cast(y>0.5,dtype=tf.float64)#정밀도 측정 목적\n",
    "#입력한 값의 결과를 자료형으로 변환,실수형태로 할 것.y>0.5일 때 1을 넘기고 아니면 0\n",
    "#sigmoid 함수로 나온 값에서 cast에 해당하는 그래프가 있어 y의 값에서 0.5이상은 1 아님 0\n",
    "#0,1로 캐스팅한 값이 들어감.\n",
    "accuracy=tf.reduce_mean(tf.cast(tf.equal(predicted,Y),dtype=tf.float64))\n",
    "#두개가 같으면 1 다르면 0으로 return.평균을 구하는 것.\n",
    "with tf.Session() as sess:\n",
    "    sess.run(tf.global_variables_initializer())\n",
    "    for i in range(3001):\n",
    "        a_,b_,loss_,_=sess.run([a,b,loss,gradient_decent],\n",
    "                              feed_dict={X:x_data,Y:y_data})#placeholder 사용했으므로\n",
    "        if (i+1)%300==0:\n",
    "            print('step: %d,a1= %.4f,a2= %.4f,b= %.4f,loss= %.4f'%\n",
    "                 (i+1,a_[0],a_[1],b_,loss_))\n",
    "    #t세션 닫기 전\n",
    "    print('predicted=',sess.run(predicted,feed_dict={X:x_data}))\n",
    "    #다른 값 테스트\n",
    "    p_val,h_val=sess.run([predicted,y],feed_dict={X:[[1,5],[10,5],[4,5]]})\n",
    "    print('check predicted = ',p_val)\n",
    "    print('check hypothests = ',h_val)\n",
    "    #정확도 측정\n",
    "    h,c,a=sess.run([y,predicted,accuracy],feed_dict={X:x_data,Y:y_data})\n",
    "    print('\\nHypothesis: ',h,'\\nCorrect (Y):',c,'\\nAccuracy: ',a)"
   ]
  },
  {
   "cell_type": "code",
   "execution_count": null,
   "metadata": {},
   "outputs": [],
   "source": []
  }
 ],
 "metadata": {
  "kernelspec": {
   "display_name": "Python 3",
   "language": "python",
   "name": "python3"
  },
  "language_info": {
   "codemirror_mode": {
    "name": "ipython",
    "version": 3
   },
   "file_extension": ".py",
   "mimetype": "text/x-python",
   "name": "python",
   "nbconvert_exporter": "python",
   "pygments_lexer": "ipython3",
   "version": "3.7.7"
  }
 },
 "nbformat": 4,
 "nbformat_minor": 4
}
