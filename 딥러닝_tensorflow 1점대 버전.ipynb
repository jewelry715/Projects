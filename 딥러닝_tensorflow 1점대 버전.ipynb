{
 "cells": [
  {
   "cell_type": "code",
   "execution_count": 1,
   "metadata": {},
   "outputs": [
    {
     "name": "stdout",
     "output_type": "stream",
     "text": [
      "10.5\n"
     ]
    }
   ],
   "source": [
    "import tensorflow as tf\n",
    "a=tf.constant(7.0,name='data1')#edge,node(operation)\n",
    "b=tf.constant(3.0,name='data2')\n",
    "c=tf.constant(2.0,name='data3')\n",
    "\n",
    "v=a*b/c #텐서플로를 통해 만들어진 텐서\n",
    "#연산 노드에 data3가 들어가있어 data1,2가 없음\n",
    "\n",
    "with tf.Session() as sess: #자동 close\n",
    "    sess.run(tf.global_variables_initializer())#2점에는 없어졌지만 1점대는 필요함\n",
    "    #변수를 초기화해도 되고 안해도 됨. 우리가 신뢰할 수 있는 값으로 초기화됨\n",
    "    #무의식적으로 만든 변수는 초기화해야함.\n",
    "    print(sess.run(v))"
   ]
  },
  {
   "cell_type": "code",
   "execution_count": 2,
   "metadata": {},
   "outputs": [
    {
     "data": {
      "text/plain": [
       "[<tf.Operation 'data1' type=Const>,\n",
       " <tf.Operation 'data2' type=Const>,\n",
       " <tf.Operation 'data3' type=Const>,\n",
       " <tf.Operation 'mul' type=Mul>,\n",
       " <tf.Operation 'truediv' type=RealDiv>,\n",
       " <tf.Operation 'init' type=NoOp>]"
      ]
     },
     "execution_count": 2,
     "metadata": {},
     "output_type": "execute_result"
    }
   ],
   "source": [
    "#텐서는 어떠한 명확한 값을 갖고 있지 않음\n",
    "#텐서틑 numpy의 array와 비슷함\n",
    "#operation 추가 후 그 간에 tensor 전달해 계산을 진행\n",
    "tf.get_default_graph().get_operations()# 맨 처음에는 []이 나옴"
   ]
  },
  {
   "cell_type": "code",
   "execution_count": 3,
   "metadata": {},
   "outputs": [
    {
     "name": "stdout",
     "output_type": "stream",
     "text": [
      "Tensor(\"data1:0\", shape=(), dtype=float32)\n"
     ]
    }
   ],
   "source": [
    "print(a)#operation 실행 전까지 텐서의 값이 결정되지 않은 상태"
   ]
  },
  {
   "cell_type": "code",
   "execution_count": 4,
   "metadata": {},
   "outputs": [
    {
     "name": "stdout",
     "output_type": "stream",
     "text": [
      "name: \"data1\"\n",
      "op: \"Const\"\n",
      "attr {\n",
      "  key: \"dtype\"\n",
      "  value {\n",
      "    type: DT_FLOAT\n",
      "  }\n",
      "}\n",
      "attr {\n",
      "  key: \"value\"\n",
      "  value {\n",
      "    tensor {\n",
      "      dtype: DT_FLOAT\n",
      "      tensor_shape {\n",
      "      }\n",
      "      float_val: 7.0\n",
      "    }\n",
      "  }\n",
      "}\n",
      "\n"
     ]
    }
   ],
   "source": [
    "print(a.op)#a를 출력하는 operation에 접근"
   ]
  },
  {
   "cell_type": "code",
   "execution_count": 5,
   "metadata": {},
   "outputs": [
    {
     "name": "stdout",
     "output_type": "stream",
     "text": [
      "[<tf.Tensor 'data1:0' shape=() dtype=float32>]\n"
     ]
    }
   ],
   "source": [
    "print(a.op.outputs)#operation a의 출력에 접근해 확인"
   ]
  },
  {
   "cell_type": "code",
   "execution_count": 6,
   "metadata": {},
   "outputs": [
    {
     "name": "stdout",
     "output_type": "stream",
     "text": [
      "True\n"
     ]
    }
   ],
   "source": [
    "print(a is a.op.outputs[0])#a와 a의 operation 출력이 같은지 확인"
   ]
  },
  {
   "cell_type": "code",
   "execution_count": 7,
   "metadata": {},
   "outputs": [
    {
     "name": "stdout",
     "output_type": "stream",
     "text": [
      "7.0\n"
     ]
    }
   ],
   "source": [
    "print(a.op.node_def.attr['value'].tensor.float_val[0])\n",
    "#a의 operation protocol 버퍼에서 출력된 값을 확인할 수 있음."
   ]
  },
  {
   "cell_type": "code",
   "execution_count": 8,
   "metadata": {},
   "outputs": [
    {
     "name": "stdout",
     "output_type": "stream",
     "text": [
      "v.op.inputs= <tensorflow.python.framework.ops.Operation._InputList object at 0x000002629792E908>\n"
     ]
    },
    {
     "data": {
      "text/plain": [
       "[<tf.Operation 'data1' type=Const>,\n",
       " <tf.Operation 'data2' type=Const>,\n",
       " <tf.Operation 'data3' type=Const>,\n",
       " <tf.Operation 'mul' type=Mul>,\n",
       " <tf.Operation 'truediv' type=RealDiv>,\n",
       " <tf.Operation 'init' type=NoOp>]"
      ]
     },
     "execution_count": 8,
     "metadata": {},
     "output_type": "execute_result"
    }
   ],
   "source": [
    "print('v.op.inputs=',v.op.inputs)#v는 텐서,클래스\n",
    "tf.get_default_graph().get_operations()"
   ]
  },
  {
   "cell_type": "code",
   "execution_count": 9,
   "metadata": {},
   "outputs": [
    {
     "name": "stdout",
     "output_type": "stream",
     "text": [
      "v.op.outputs= [<tf.Tensor 'truediv:0' shape=() dtype=float32>]\n"
     ]
    }
   ],
   "source": [
    "print('v.op.outputs=',v.op.outputs)"
   ]
  },
  {
   "cell_type": "code",
   "execution_count": 10,
   "metadata": {},
   "outputs": [
    {
     "name": "stdout",
     "output_type": "stream",
     "text": [
      "True\n"
     ]
    }
   ],
   "source": [
    "print(v.op.outputs[0] is v)"
   ]
  },
  {
   "cell_type": "code",
   "execution_count": 11,
   "metadata": {},
   "outputs": [
    {
     "name": "stdout",
     "output_type": "stream",
     "text": [
      "name: \"truediv\"\n",
      "op: \"RealDiv\"\n",
      "input: \"mul\"\n",
      "input: \"data3\"\n",
      "attr {\n",
      "  key: \"T\"\n",
      "  value {\n",
      "    type: DT_FLOAT\n",
      "  }\n",
      "}\n",
      "\n"
     ]
    }
   ],
   "source": [
    "print(v.op) #v의 operation의 node를 확인\n",
    "# v.op를 치면 안의 내용을 출력\n",
    "#별도의 노드가 있어 data1,2는 보여지지 않음"
   ]
  },
  {
   "cell_type": "code",
   "execution_count": 12,
   "metadata": {},
   "outputs": [
    {
     "data": {
      "text/plain": [
       "name: \"truediv\"\n",
       "op: \"RealDiv\"\n",
       "input: \"mul\"\n",
       "input: \"data3\"\n",
       "attr {\n",
       "  key: \"T\"\n",
       "  value {\n",
       "    type: DT_FLOAT\n",
       "  }\n",
       "}"
      ]
     },
     "execution_count": 12,
     "metadata": {},
     "output_type": "execute_result"
    }
   ],
   "source": [
    "v.op.node_def"
   ]
  },
  {
   "cell_type": "code",
   "execution_count": 13,
   "metadata": {},
   "outputs": [
    {
     "name": "stdout",
     "output_type": "stream",
     "text": [
      "(1, 3)\n",
      "(3, 1)\n",
      "(1, 1)\n",
      "Tensor(\"MatMul:0\", shape=(1, 1), dtype=float32)\n",
      "[[12.]]\n"
     ]
    }
   ],
   "source": [
    "x=tf.constant([[1.0,2.0,3.0]])#상수를 만드는 메소드\n",
    "w=tf.constant([[2.0],[2.0],[2.0]])\n",
    "y=tf.matmul(x,w)\n",
    "print(x.get_shape())\n",
    "print(w.get_shape())\n",
    "print(y.get_shape())\n",
    "print(y)\n",
    "sess=tf.Session() #세션 객체 생성\n",
    "init=tf.global_variables_initializer()\n",
    "sess.run(init)\n",
    "result=sess.run(y)\n",
    "print(result)"
   ]
  },
  {
   "cell_type": "markdown",
   "metadata": {},
   "source": [
    "rank는 텐서의 차원 shape는 텐서가 몇개의 행과 열을 가지는지 type은 텐서가 담을 수 있는데이터 타입을 의미\n",
    "\n",
    "placeholder는 값을 나중에 지정. constant는 변하지 않는 수를 지정 variable은 조건에 따라 값을 바꾸야하는 경우 사용\n",
    "\n",
    "placeholder는 값을 지정하지 않고 type만 지정 나중에 지정해 연산의 결과값을 얻는 모습을 확인 ex(print(sess.run(linear_model,{x:[1,2,3,4]})))\n",
    "\n",
    "variable은 명시적으로 초기화해야함."
   ]
  },
  {
   "cell_type": "code",
   "execution_count": 19,
   "metadata": {},
   "outputs": [
    {
     "name": "stdout",
     "output_type": "stream",
     "text": [
      "Tensor(\"Const_8:0\", shape=(), dtype=int32)\n",
      "Tensor(\"Const_9:0\", shape=(), dtype=int32)\n",
      "Tensor(\"Const_10:0\", shape=(), dtype=int32)\n",
      "Tensor(\"Mul_3:0\", shape=(), dtype=int32)\n",
      "Tensor(\"Add_2:0\", shape=(), dtype=int32)\n",
      "Tensor(\"Sub_2:0\", shape=(), dtype=int32)\n"
     ]
    }
   ],
   "source": [
    "a=tf.constant(5)\n",
    "b=tf.constant(2)\n",
    "c=tf.constant(3)\n",
    "d=tf.multiply(a,b)\n",
    "e=tf.add(c,b)\n",
    "f=tf.subtract(d,e)\n",
    "print(a)\n",
    "print(b)\n",
    "print(c)\n",
    "print(d)\n",
    "print(e)\n",
    "print(f)\n",
    "#계산함수 다음 창 설명:텐서\n",
    "#텐서를 만들뿐 실행은 안함\n",
    "#session에서 실행함. 데이터를 넣어서 흐름이 이루어지게 해야함.\n",
    "#그래프를 정의했을 뿐 실제로 연산이 일어나는 것은 아니다."
   ]
  },
  {
   "cell_type": "code",
   "execution_count": 20,
   "metadata": {},
   "outputs": [
    {
     "name": "stdout",
     "output_type": "stream",
     "text": [
      "outs =  5\n"
     ]
    }
   ],
   "source": [
    "sess=tf.Session()\n",
    "#init=tf.global_variables_initializer()\n",
    "#sess.run(init)\n",
    "outs=sess.run(f)\n",
    "sess.close()\n",
    "print('outs = ',outs)#텐서를 흘려보내면서 데이터 처리과정이 필요함.\n",
    "#session은 실제로 값을 대입한 그래프가 동작하도록 하는 역할을 수행"
   ]
  },
  {
   "cell_type": "code",
   "execution_count": 22,
   "metadata": {},
   "outputs": [
    {
     "name": "stdout",
     "output_type": "stream",
     "text": [
      "b'hello,tensorflow'\n"
     ]
    }
   ],
   "source": [
    "hello=tf.constant('hello,tensorflow')\n",
    "sess=tf.Session()\n",
    "print(sess.run(hello)) \n"
   ]
  },
  {
   "cell_type": "code",
   "execution_count": 24,
   "metadata": {},
   "outputs": [
    {
     "name": "stdout",
     "output_type": "stream",
     "text": [
      "53.0\n"
     ]
    }
   ],
   "source": [
    "p_holder1=tf.placeholder(dtype=tf.float32)\n",
    "p_holder2=tf.placeholder(dtype=tf.float32)\n",
    "p_holder3=tf.placeholder(dtype=tf.float32)\n",
    "var1=5\n",
    "var2=10\n",
    "var3=3\n",
    "ret_val=p_holder1*p_holder2+p_holder3\n",
    "\n",
    "feed_dict1={p_holder1:var1,p_holder2:var2,p_holder3:var3}\n",
    "result=sess.run(ret_val,feed_dict=feed_dict1)\n",
    "print(result)"
   ]
  },
  {
   "cell_type": "code",
   "execution_count": 25,
   "metadata": {},
   "outputs": [
    {
     "name": "stdout",
     "output_type": "stream",
     "text": [
      "[[30. 30.]\n",
      " [70. 70.]]\n"
     ]
    }
   ],
   "source": [
    "I=tf.placeholder(tf.float32,[2,4])\n",
    "i=[[1,2,3,4],[5,6,7,8]]\n",
    "W=tf.placeholder(tf.float32,[4,2])\n",
    "w=[[1,1],[2,2],[3,3],[4,4]]\n",
    "\n",
    "node=tf.matmul(I,W)\n",
    "sess=tf.Session()\n",
    "print(sess.run(node,feed_dict={I:i,W:w}))\n",
    "sess.close()"
   ]
  },
  {
   "cell_type": "code",
   "execution_count": 26,
   "metadata": {},
   "outputs": [
    {
     "name": "stdout",
     "output_type": "stream",
     "text": [
      "[[30 30]\n",
      " [70 70]]\n"
     ]
    }
   ],
   "source": [
    "I=tf.Variable([[1,2,3,4],[5,6,7,8]],tf.float32)\n",
    "W=tf.Variable([[1,1],[2,2],[3,3],[4,4]],tf.float32)\n",
    "\n",
    "node=tf.matmul(I,W)\n",
    "sess=tf.Session()\n",
    "sess.run(tf.global_variables_initializer())\n",
    "print(sess.run(node))\n",
    "sess.close()"
   ]
  },
  {
   "cell_type": "code",
   "execution_count": 28,
   "metadata": {},
   "outputs": [
    {
     "name": "stdout",
     "output_type": "stream",
     "text": [
      "<tf.Variable 'Variable_3:0' shape=() dtype=int32_ref>\n",
      "7\n"
     ]
    }
   ],
   "source": [
    "x=tf.Variable(5,dtype=tf.int32)\n",
    "print(x)\n",
    "\n",
    "x=tf.assign(x,7)\n",
    "z=tf.global_variables_initializer()\n",
    "sess=tf.Session()\n",
    "sess.run(z)\n",
    "y=sess.run(x)\n",
    "print(y)"
   ]
  },
  {
   "cell_type": "markdown",
   "metadata": {},
   "source": [
    "## 경사하강법 "
   ]
  },
  {
   "cell_type": "code",
   "execution_count": 29,
   "metadata": {},
   "outputs": [],
   "source": [
    "data=[[2,81],[4,93],[6,91],[8,97]]\n",
    "x_data=[x_row[0] for x_row in data]\n",
    "y_data=[y_row[1] for y_row in data]\n",
    "\n",
    "a=tf.Variable(tf.random_uniform([1],0,10,dtype=tf.float64,seed=0))\n",
    "#0~10 사이의 기울기\n",
    "b=tf.Variable(tf.random_uniform([1],0,100,dtype=tf.float64,seed=0))\n",
    "#0~100  사이의 y절편\n",
    "y=a*x_data+b"
   ]
  },
  {
   "cell_type": "code",
   "execution_count": 30,
   "metadata": {},
   "outputs": [
    {
     "name": "stdout",
     "output_type": "stream",
     "text": [
      "epoch: 0,rmse=30.2139,기울기 a = 7.5235,y절편 b =80.5984 \n",
      "epoch: 100,rmse=2.8860,기울기 a = 2.2299,y절편 b =79.4181 \n",
      "epoch: 200,rmse=2.8826,기울기 a = 2.2601,y절편 b =79.2379 \n",
      "epoch: 300,rmse=2.8815,기울기 a = 2.2773,y절편 b =79.1353 \n",
      "epoch: 400,rmse=2.8811,기울기 a = 2.2871,y절편 b =79.0770 \n",
      "epoch: 500,rmse=2.8810,기울기 a = 2.2927,y절편 b =79.0438 \n",
      "epoch: 600,rmse=2.8810,기울기 a = 2.2958,y절편 b =79.0249 \n",
      "epoch: 700,rmse=2.8810,기울기 a = 2.2976,y절편 b =79.0142 \n",
      "epoch: 800,rmse=2.8810,기울기 a = 2.2987,y절편 b =79.0081 \n",
      "epoch: 900,rmse=2.8810,기울기 a = 2.2992,y절편 b =79.0046 \n",
      "epoch: 1000,rmse=2.8810,기울기 a = 2.2996,y절편 b =79.0026 \n",
      "epoch: 1100,rmse=2.8810,기울기 a = 2.2998,y절편 b =79.0015 \n",
      "epoch: 1200,rmse=2.8810,기울기 a = 2.2999,y절편 b =79.0008 \n",
      "epoch: 1300,rmse=2.8810,기울기 a = 2.2999,y절편 b =79.0005 \n",
      "epoch: 1400,rmse=2.8810,기울기 a = 2.3000,y절편 b =79.0003 \n",
      "epoch: 1500,rmse=2.8810,기울기 a = 2.3000,y절편 b =79.0002 \n",
      "epoch: 1600,rmse=2.8810,기울기 a = 2.3000,y절편 b =79.0001 \n",
      "epoch: 1700,rmse=2.8810,기울기 a = 2.3000,y절편 b =79.0001 \n",
      "epoch: 1800,rmse=2.8810,기울기 a = 2.3000,y절편 b =79.0000 \n",
      "epoch: 1900,rmse=2.8810,기울기 a = 2.3000,y절편 b =79.0000 \n",
      "epoch: 2000,rmse=2.8810,기울기 a = 2.3000,y절편 b =79.0000 \n"
     ]
    }
   ],
   "source": [
    "rmse=tf.sqrt(tf.reduce_mean(tf.square(y-y_data)))\n",
    "#reduce_mean:사용된 data들 각각에서 계산된 합의 평균을 구하는 함수.\n",
    "learning_rate=0.1\n",
    "gradient_descent=tf.train.GradientDescentOptimizer(learning_rate).minimize(rmse)\n",
    "#평균제곱오차 최소화해서 넣는다.\n",
    "#적절한 거리를 찾지 못해 너무멀리 이동시키면 a값이 한점으로 모이지 않음.\n",
    "with tf.Session() as sess: #여기서 구현될 함수는 그래프라 부름\n",
    "    sess.run(tf.global_variables_initializer())#변수 초기화\n",
    "    #변수가 초기화되지 않으면 기존에 있던 변수가 사용됨.\n",
    "    #텐서->그래프->변수에서 바로 할당이 아닌 클래스에서 만들어지고. 세션이 런하는 시점. \n",
    "    #변수를 만들어주는 시점에 실행.\n",
    "    for step in range(2001):\n",
    "        sess.run(gradient_descent)\n",
    "        if step%100==0:\n",
    "            print('epoch: %.f,rmse=%.4f,기울기 a = %.4f,y절편 b =%.4f '%\n",
    "                 (step,sess.run(rmse),sess.run(a),sess.run(b)))"
   ]
  },
  {
   "cell_type": "markdown",
   "metadata": {},
   "source": [
    "난수를 생성할 경우:seed. 0일 경우 매번 했을때마다 똑같은 패턴의 난수를 생성하게\n",
    "하는 것이다.\n"
   ]
  },
  {
   "cell_type": "code",
   "execution_count": null,
   "metadata": {},
   "outputs": [],
   "source": []
  }
 ],
 "metadata": {
  "kernelspec": {
   "display_name": "Python 3",
   "language": "python",
   "name": "python3"
  },
  "language_info": {
   "codemirror_mode": {
    "name": "ipython",
    "version": 3
   },
   "file_extension": ".py",
   "mimetype": "text/x-python",
   "name": "python",
   "nbconvert_exporter": "python",
   "pygments_lexer": "ipython3",
   "version": "3.7.7"
  }
 },
 "nbformat": 4,
 "nbformat_minor": 4
}
