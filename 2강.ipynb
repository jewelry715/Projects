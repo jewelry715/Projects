{
 "cells": [
  {
   "cell_type": "code",
   "execution_count": 1,
   "metadata": {},
   "outputs": [],
   "source": [
    "x=10"
   ]
  },
  {
   "cell_type": "code",
   "execution_count": 2,
   "metadata": {},
   "outputs": [
    {
     "name": "stdout",
     "output_type": "stream",
     "text": [
      "x는 10입니다\n"
     ]
    }
   ],
   "source": [
    "if x==10:\n",
    "    print('x는 10입니다')"
   ]
  },
  {
   "cell_type": "code",
   "execution_count": 3,
   "metadata": {},
   "outputs": [
    {
     "name": "stdout",
     "output_type": "stream",
     "text": [
      "x는 10입니다\n",
      "end code block\n"
     ]
    }
   ],
   "source": [
    "if x==10:\n",
    "    print('x는 10입니다')\n",
    "    print('end code block')"
   ]
  },
  {
   "cell_type": "code",
   "execution_count": 4,
   "metadata": {},
   "outputs": [],
   "source": [
    "if x!=10:\n",
    "    print('x는 10이 아닙니다.')"
   ]
  },
  {
   "cell_type": "code",
   "execution_count": 5,
   "metadata": {},
   "outputs": [],
   "source": [
    "x = 10\n",
    "if x == 10:\n",
    "    pass"
   ]
  },
  {
   "cell_type": "code",
   "execution_count": 6,
   "metadata": {},
   "outputs": [
    {
     "name": "stdout",
     "output_type": "stream",
     "text": [
      "x는 3보다 크고 20보다 작습니다.\n"
     ]
    }
   ],
   "source": [
    "if x>3 and x<20:\n",
    "    print('x는 3보다 크고 20보다 작습니다.')"
   ]
  },
  {
   "cell_type": "code",
   "execution_count": 7,
   "metadata": {},
   "outputs": [
    {
     "name": "stdout",
     "output_type": "stream",
     "text": [
      "x는 3보다 큽니다\n",
      "x는 10보다 크거나 같습니다. \n",
      "x는 20보다 작습니다\n"
     ]
    }
   ],
   "source": [
    "if x>3:\n",
    "    print('x는 3보다 큽니다')\n",
    "    if x>=10:\n",
    "        print('x는 10보다 크거나 같습니다. ')\n",
    "    if x<20:\n",
    "        print('x는 20보다 작습니다')"
   ]
  },
  {
   "cell_type": "code",
   "execution_count": 8,
   "metadata": {},
   "outputs": [
    {
     "name": "stdout",
     "output_type": "stream",
     "text": [
      "x는 5보다 큽니다.\n"
     ]
    }
   ],
   "source": [
    "if x>5:\n",
    "    print('x는 5보다 큽니다.')\n",
    "else:\n",
    "    print('x는 5보다 작거나 같습니다.')"
   ]
  },
  {
   "cell_type": "code",
   "execution_count": 9,
   "metadata": {},
   "outputs": [
    {
     "name": "stdout",
     "output_type": "stream",
     "text": [
      "x는 5보다 작거나 같습니다.\n"
     ]
    }
   ],
   "source": [
    "x=3\n",
    "if x>5:\n",
    "    print('x는 5보다 큽니다.')\n",
    "else:\n",
    "    print('x는 5보다 작거나 같습니다.')"
   ]
  },
  {
   "cell_type": "code",
   "execution_count": 10,
   "metadata": {},
   "outputs": [
    {
     "name": "stdout",
     "output_type": "stream",
     "text": [
      "x는 2보다 큽니다.\n"
     ]
    }
   ],
   "source": [
    "if x>5:\n",
    "    print('x는 5보다 큽니다')\n",
    "elif x>2:\n",
    "    print('x는 2보다 큽니다.')\n",
    "elif x>0:\n",
    "    print('x는 0보다 큽니다.')\n",
    "else:\n",
    "    print('x는 음수입니다.')"
   ]
  },
  {
   "cell_type": "code",
   "execution_count": 11,
   "metadata": {},
   "outputs": [
    {
     "name": "stdout",
     "output_type": "stream",
     "text": [
      "x는 0보다 큽니다.\n"
     ]
    }
   ],
   "source": [
    "x=10\n",
    "if x>0:\n",
    "    print('x는 0보다 큽니다.')\n",
    "elif x>3:#if문이 false일 시 시행.\n",
    "    print('x는 3보다 큽니다.')\n",
    "elif x>8:\n",
    "    print('x는 8보다 큽니다')\n",
    "else:\n",
    "    print('x는 음수입니다.')"
   ]
  },
  {
   "cell_type": "code",
   "execution_count": 25,
   "metadata": {},
   "outputs": [
    {
     "name": "stdout",
     "output_type": "stream",
     "text": [
      "98\n",
      "96\n",
      "100\n",
      "합격\n"
     ]
    }
   ],
   "source": [
    "sinb=int(input())\n",
    "if sinb>100 or sinb<0:\n",
    "    print('잘못된 점수가 입력되었습니다.')\n",
    "    sinb=int(input())\n",
    "sowon=int(input())\n",
    "if sowon>100 or sowon<0:\n",
    "    print('잘못된 점수가 입력되었습니다.')\n",
    "    sowon=int(input())\n",
    "yerin=int(input())\n",
    "if yerin>100 or yerin<0:\n",
    "    print('잘못된 점수가 입력되었습니다.')\n",
    "    yerin=int(input())\n",
    "if sinb>65 and yerin>65 and sowon>65:\n",
    "    print('합격')\n",
    "else:\n",
    "    print('불합격')"
   ]
  },
  {
   "cell_type": "code",
   "execution_count": 39,
   "metadata": {},
   "outputs": [
    {
     "name": "stdout",
     "output_type": "stream",
     "text": [
      "102\n",
      "95\n",
      "85\n",
      "잘못된 정수가 입력되었습니다.\n"
     ]
    }
   ],
   "source": [
    "sinb=input()\n",
    "sowon=input()\n",
    "yerin=input()\n",
    "sinb,yerin,sowon=map(int,[sinb,yerin,sowon])\n",
    "#not (0<=x<=100) or(0<=y<=100)or(0<=z<=100) \n",
    "if (sinb not in range(101)) or (yerin not in range(101)) or (sowon not in range(101)):\n",
    "    print('잘못된 정수가 입력되었습니다.')\n",
    "elif sinb>65 and yerin>65 and sowon>65:\n",
    "    print('합격')\n",
    "else:\n",
    "    print('불합격')"
   ]
  },
  {
   "cell_type": "code",
   "execution_count": 27,
   "metadata": {},
   "outputs": [
    {
     "name": "stdout",
     "output_type": "stream",
     "text": [
      "정수를 입력해주세요: 9\n",
      "입력하신  9 는 홀수입니다.\n"
     ]
    }
   ],
   "source": [
    "integer=int(input('정수를 입력해주세요: '))\n",
    "if integer%2==0:\n",
    "    print('입력하신 ',integer,'는 짝수입니다.')\n",
    "if integer%2==1:\n",
    "    print('입력하신 ',integer,'는 홀수입니다.')"
   ]
  },
  {
   "cell_type": "code",
   "execution_count": 28,
   "metadata": {},
   "outputs": [
    {
     "name": "stdout",
     "output_type": "stream",
     "text": [
      "0\n",
      "1\n",
      "2\n",
      "3\n",
      "4\n",
      "5\n",
      "6\n",
      "7\n",
      "8\n",
      "9\n"
     ]
    }
   ],
   "source": [
    "for i in range(10):\n",
    "    print(i)"
   ]
  },
  {
   "cell_type": "code",
   "execution_count": 29,
   "metadata": {},
   "outputs": [
    {
     "name": "stdout",
     "output_type": "stream",
     "text": [
      "a\n",
      "b\n",
      "c\n"
     ]
    }
   ],
   "source": [
    "for i in ['a','b','c']:\n",
    "    print(i)"
   ]
  },
  {
   "cell_type": "code",
   "execution_count": 30,
   "metadata": {},
   "outputs": [
    {
     "name": "stdout",
     "output_type": "stream",
     "text": [
      "name\n",
      "height\n",
      "city\n"
     ]
    }
   ],
   "source": [
    "profile={'name':'채송화','height':'1xx','city':'seoul'}\n",
    "for i in profile:\n",
    "    print(i) #키가 뜬다."
   ]
  },
  {
   "cell_type": "code",
   "execution_count": 31,
   "metadata": {},
   "outputs": [
    {
     "name": "stdout",
     "output_type": "stream",
     "text": [
      "O\n",
      "r\n",
      "a\n",
      "n\n",
      "g\n",
      "e\n"
     ]
    }
   ],
   "source": [
    "for i in 'Orange':\n",
    "    print(i)"
   ]
  },
  {
   "cell_type": "code",
   "execution_count": 35,
   "metadata": {},
   "outputs": [
    {
     "name": "stdout",
     "output_type": "stream",
     "text": [
      "정수를 입력해주세요: 5\n",
      "안녕\n",
      "안녕\n",
      "안녕\n",
      "안녕\n",
      "안녕\n"
     ]
    }
   ],
   "source": [
    "i=int(input('정수를 입력해주세요: '))\n",
    "for j in range(i):\n",
    "    print('안녕')"
   ]
  },
  {
   "cell_type": "code",
   "execution_count": 37,
   "metadata": {},
   "outputs": [
    {
     "name": "stdout",
     "output_type": "stream",
     "text": [
      "정수를 입력해주세요: 5\n",
      "\n",
      "*\n",
      "**\n",
      "***\n",
      "****\n",
      "*****\n"
     ]
    }
   ],
   "source": [
    "i=int(input('정수를 입력해주세요: '))\n",
    "for j in range(i+1):\n",
    "    print('*'*j)"
   ]
  },
  {
   "cell_type": "code",
   "execution_count": 38,
   "metadata": {},
   "outputs": [
    {
     "name": "stdout",
     "output_type": "stream",
     "text": [
      "정수를 입력해주세요: 5\n",
      "*****\n",
      "****\n",
      "***\n",
      "**\n",
      "*\n",
      "\n"
     ]
    }
   ],
   "source": [
    "i=int(input('정수를 입력해주세요: '))\n",
    "for j in range(i+1):\n",
    "    print('*'*(i-j))"
   ]
  },
  {
   "cell_type": "code",
   "execution_count": null,
   "metadata": {},
   "outputs": [],
   "source": []
  }
 ],
 "metadata": {
  "kernelspec": {
   "display_name": "Python 3",
   "language": "python",
   "name": "python3"
  },
  "language_info": {
   "codemirror_mode": {
    "name": "ipython",
    "version": 3
   },
   "file_extension": ".py",
   "mimetype": "text/x-python",
   "name": "python",
   "nbconvert_exporter": "python",
   "pygments_lexer": "ipython3",
   "version": "3.8.3"
  }
 },
 "nbformat": 4,
 "nbformat_minor": 4
}
