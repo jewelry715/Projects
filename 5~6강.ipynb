{
 "cells": [
  {
   "cell_type": "code",
   "execution_count": 3,
   "metadata": {},
   "outputs": [],
   "source": [
    "class Dog:\n",
    "    #생성자\n",
    "    #기능과 속성을 넣어서 정의하는 것.\n",
    "    #메소드\n",
    "    def __init__(self,name,color):#인스턴스 초기화\n",
    "        self.__hungry=0 #private\n",
    "        self.name=name\n",
    "        self.color=color\n",
    "        \n",
    "    def eat(self): #인자는 self\n",
    "        self.hungry-=10#자기 자신을 가리킴.추가하지 않아도 알아서 들어가있음.(self)\n",
    "        print('밥먹음',self.hungry) \n",
    "        \n",
    "    def walk(self):\n",
    "        self.hungry+=10\n",
    "        print('산책',self.hungry)"
   ]
  },
  {
   "cell_type": "code",
   "execution_count": 5,
   "metadata": {},
   "outputs": [],
   "source": [
    "choco=Dog('choco','black')\n",
    "jjong=Dog('jjong','white')"
   ]
  },
  {
   "cell_type": "code",
   "execution_count": 7,
   "metadata": {},
   "outputs": [
    {
     "name": "stdout",
     "output_type": "stream",
     "text": [
      "밥먹음 -20\n",
      "밥먹음 -30\n",
      "산책 -20\n",
      "-20\n",
      "0\n",
      "jjong\n",
      "white\n"
     ]
    }
   ],
   "source": [
    "choco.eat()#인스턴스,메소드\n",
    "choco.eat()\n",
    "choco.walk()\n",
    "print(choco.hungry)\n",
    "print(jjong.hungry)\n",
    "print(jjong.name)\n",
    "print(jjong.color)"
   ]
  },
  {
   "cell_type": "code",
   "execution_count": 8,
   "metadata": {},
   "outputs": [
    {
     "name": "stdout",
     "output_type": "stream",
     "text": [
      "-324\n"
     ]
    }
   ],
   "source": [
    "#변수는 바꿀 수 있음.\n",
    "jjong.hungry=-324#public만 가능\n",
    "print(jjong.hungry)"
   ]
  },
  {
   "cell_type": "code",
   "execution_count": 13,
   "metadata": {},
   "outputs": [],
   "source": [
    "class Dog:\n",
    "    #생성자\n",
    "    #기능과 속성을 넣어서 정의하는 것.인스턴스는 속성을 만든다.\n",
    "    #메소드\n",
    "    def __init__(self,name,color):#인스턴스 초기화.\n",
    "        self.__hungry=0 #private:외부에서 접근을 못한다.->수정도 안되고..\n",
    "        #메소드를 통해서 수정을 해줘야 한다.\n",
    "        self.name=name\n",
    "        self.color=color\n",
    "        \n",
    "    def eat(self): #인자는 self\n",
    "        self.__hungry-=10#자기 자신을 가리킴.추가하지 않아도 알아서 들어가있음.(self)\n",
    "        print('밥먹음',self.__hungry)\n",
    "        \n",
    "    def walk(self):\n",
    "        self.__hungry+=10\n",
    "        print('산책',self.__hungry)\n",
    "        \n",
    "    def get_hungry(self):\n",
    "        return self.__hungry"
   ]
  },
  {
   "cell_type": "code",
   "execution_count": 14,
   "metadata": {},
   "outputs": [],
   "source": [
    "jjong=Dog('jjong','white')"
   ]
  },
  {
   "cell_type": "code",
   "execution_count": 19,
   "metadata": {},
   "outputs": [
    {
     "name": "stdout",
     "output_type": "stream",
     "text": [
      "밥먹음 -20\n"
     ]
    }
   ],
   "source": [
    "jjong.eat()"
   ]
  },
  {
   "cell_type": "code",
   "execution_count": 20,
   "metadata": {},
   "outputs": [
    {
     "data": {
      "text/plain": [
       "-20"
      ]
     },
     "execution_count": 20,
     "metadata": {},
     "output_type": "execute_result"
    }
   ],
   "source": [
    "jjong.get_hungry()"
   ]
  },
  {
   "cell_type": "code",
   "execution_count": null,
   "metadata": {},
   "outputs": [],
   "source": [
    "#외부접근 불가능:\n",
    "jjong.hungry()\n",
    "jjong.__hungry()"
   ]
  },
  {
   "cell_type": "markdown",
   "metadata": {},
   "source": [
    "## 클래스 속성"
   ]
  },
  {
   "cell_type": "code",
   "execution_count": 56,
   "metadata": {},
   "outputs": [],
   "source": [
    "class Dog:#Dog(object)랑 같음\n",
    "    dog_count=0\n",
    "    #기능과 속성을 넣어서 정의하는 것.인스턴스는 속성을 만든다.\n",
    "    #메소드\n",
    "    def __init__(self,name,color):#인스턴스 초기화.\n",
    "        self.__hungry=0\n",
    "        self.name=name\n",
    "        self.color=color\n",
    "        #class 속성\n",
    "        Dog.dog_count+=1\n",
    "        \n",
    "    def eat(self): #인자는 self\n",
    "        self.__hungry-=10#자기 자신을 가리킴.추가하지 않아도 알아서 들어가있음.(self)\n",
    "        print('밥먹음',self.__hungry)\n",
    "        \n",
    "    def walk(self):\n",
    "        self.__hungry+=10\n",
    "        print('산책',self.__hungry)\n",
    "        \n",
    "    def get_hungry(self):\n",
    "        return self.__hungry\n",
    "    \n",
    "    #decorator\n",
    "    @classmethod\n",
    "    def create_black_dog(cls,name):\n",
    "        print('현재 강아지수:',cls.dog_count)\n",
    "        return cls(name,'Black')\n",
    "    \n",
    "    @staticmethod\n",
    "    def intro():\n",
    "        print('안녕하세요. 동물의 숲입니다.')\n",
    "        \n",
    "    def __str__(self):\n",
    "        return repr(self)\n",
    "    \n",
    "    def __repr__(self):\n",
    "        return str({\n",
    "            'name':self.name,\n",
    "            'color':self.color\n",
    "        })"
   ]
  },
  {
   "cell_type": "code",
   "execution_count": 57,
   "metadata": {},
   "outputs": [
    {
     "name": "stdout",
     "output_type": "stream",
     "text": [
      "{'name': '초코', 'color': 'black'}\n"
     ]
    }
   ],
   "source": [
    "choco=Dog('초코','black')\n",
    "print(choco)"
   ]
  },
  {
   "cell_type": "code",
   "execution_count": 22,
   "metadata": {},
   "outputs": [
    {
     "data": {
      "text/plain": [
       "0"
      ]
     },
     "execution_count": 22,
     "metadata": {},
     "output_type": "execute_result"
    }
   ],
   "source": [
    "Dog.dog_count#클래스 내에서만 관리하는 함수"
   ]
  },
  {
   "cell_type": "code",
   "execution_count": 23,
   "metadata": {},
   "outputs": [
    {
     "data": {
      "text/plain": [
       "1"
      ]
     },
     "execution_count": 23,
     "metadata": {},
     "output_type": "execute_result"
    }
   ],
   "source": [
    "jjong=Dog('jjong','black')\n",
    "Dog.dog_count"
   ]
  },
  {
   "cell_type": "code",
   "execution_count": 24,
   "metadata": {},
   "outputs": [
    {
     "data": {
      "text/plain": [
       "2"
      ]
     },
     "execution_count": 24,
     "metadata": {},
     "output_type": "execute_result"
    }
   ],
   "source": [
    "choco=Dog('choco','white')\n",
    "Dog.dog_count"
   ]
  },
  {
   "cell_type": "code",
   "execution_count": 27,
   "metadata": {},
   "outputs": [
    {
     "name": "stdout",
     "output_type": "stream",
     "text": [
      "현재 강아지수: 0\n"
     ]
    }
   ],
   "source": [
    "choco=Dog.create_black_dog('초코')"
   ]
  },
  {
   "cell_type": "code",
   "execution_count": 28,
   "metadata": {},
   "outputs": [
    {
     "data": {
      "text/plain": [
       "'초코'"
      ]
     },
     "execution_count": 28,
     "metadata": {},
     "output_type": "execute_result"
    }
   ],
   "source": [
    "choco.name"
   ]
  },
  {
   "cell_type": "code",
   "execution_count": 30,
   "metadata": {},
   "outputs": [
    {
     "name": "stdout",
     "output_type": "stream",
     "text": [
      "안녕하세요. 동물의 숲입니다.\n"
     ]
    }
   ],
   "source": [
    "Dog.intro()"
   ]
  },
  {
   "cell_type": "code",
   "execution_count": 122,
   "metadata": {},
   "outputs": [],
   "source": [
    "class Car:\n",
    "    count=0\n",
    "    def __init__(self,name,cc,year):\n",
    "        self.__name=name#private\n",
    "        self.__cc=cc\n",
    "        self.__year=year\n",
    "        \n",
    "        self.__speed=0\n",
    "        Car.count+=1\n",
    "        \n",
    "    def excel(self):\n",
    "        self.__speed+=4\n",
    "        \n",
    "    def _break(self):\n",
    "        if (self.__speed-4)<0:\n",
    "            self.__speed=0\n",
    "        else:\n",
    "            self.__speed-=4\n",
    "        \n",
    "        \n",
    "    @classmethod\n",
    "    def car_count(cls):\n",
    "        print(cls.count)\n",
    "        return cls.count\n",
    "    \n",
    "    def set_name(self,name):\n",
    "        self.__name=name\n",
    "        return self.__name\n",
    "    \n",
    "    def car_size(self):\n",
    "        size=None\n",
    "        if self.__cc<1000:\n",
    "            size='소형'\n",
    "        elif self.__cc<2000:\n",
    "            size='중형'\n",
    "        else:\n",
    "            size='대형'\n",
    "        print(size)\n",
    "        return size\n",
    "    \n",
    "    def get_name(self):\n",
    "        return self.__name\n",
    "    \n",
    "    def get_cc(self):\n",
    "        return self.__cc\n",
    "    \n",
    "    def get_prod_year(self):\n",
    "        return self.__year\n",
    "    \n",
    "    def get_speed(self):\n",
    "        return self.__speed\n",
    "    \n",
    "    @staticmethod\n",
    "    def speed(self):\n",
    "        return self.__speed"
   ]
  },
  {
   "cell_type": "code",
   "execution_count": 123,
   "metadata": {},
   "outputs": [
    {
     "name": "stdout",
     "output_type": "stream",
     "text": [
      "1\n"
     ]
    },
    {
     "data": {
      "text/plain": [
       "1"
      ]
     },
     "execution_count": 123,
     "metadata": {},
     "output_type": "execute_result"
    }
   ],
   "source": [
    "mycar=Car('bmw',2020,2020)\n",
    "mycar.car_count()"
   ]
  },
  {
   "cell_type": "code",
   "execution_count": 124,
   "metadata": {},
   "outputs": [
    {
     "data": {
      "text/plain": [
       "4"
      ]
     },
     "execution_count": 124,
     "metadata": {},
     "output_type": "execute_result"
    }
   ],
   "source": [
    "mycar.excel()\n",
    "mycar.get_speed()"
   ]
  },
  {
   "cell_type": "code",
   "execution_count": 125,
   "metadata": {},
   "outputs": [
    {
     "data": {
      "text/plain": [
       "0"
      ]
     },
     "execution_count": 125,
     "metadata": {},
     "output_type": "execute_result"
    }
   ],
   "source": [
    "mycar._break()\n",
    "mycar.get_speed()"
   ]
  },
  {
   "cell_type": "code",
   "execution_count": 126,
   "metadata": {},
   "outputs": [
    {
     "name": "stdout",
     "output_type": "stream",
     "text": [
      "2\n"
     ]
    },
    {
     "data": {
      "text/plain": [
       "2"
      ]
     },
     "execution_count": 126,
     "metadata": {},
     "output_type": "execute_result"
    }
   ],
   "source": [
    "yourcar=Car('bmw',2019,2020)\n",
    "yourcar.car_count()"
   ]
  },
  {
   "cell_type": "code",
   "execution_count": 127,
   "metadata": {},
   "outputs": [
    {
     "data": {
      "text/plain": [
       "'람보르기니'"
      ]
     },
     "execution_count": 127,
     "metadata": {},
     "output_type": "execute_result"
    }
   ],
   "source": [
    "yourcar.set_name('람보르기니')"
   ]
  },
  {
   "cell_type": "code",
   "execution_count": 128,
   "metadata": {},
   "outputs": [
    {
     "data": {
      "text/plain": [
       "'람보르기니'"
      ]
     },
     "execution_count": 128,
     "metadata": {},
     "output_type": "execute_result"
    }
   ],
   "source": [
    "yourcar.get_name()"
   ]
  },
  {
   "cell_type": "code",
   "execution_count": 129,
   "metadata": {},
   "outputs": [
    {
     "name": "stdout",
     "output_type": "stream",
     "text": [
      "3\n"
     ]
    },
    {
     "data": {
      "text/plain": [
       "3"
      ]
     },
     "execution_count": 129,
     "metadata": {},
     "output_type": "execute_result"
    }
   ],
   "source": [
    "mothercar=Car('audi',1000,2006)\n",
    "mothercar.car_count()"
   ]
  },
  {
   "cell_type": "code",
   "execution_count": 130,
   "metadata": {},
   "outputs": [
    {
     "name": "stdout",
     "output_type": "stream",
     "text": [
      "중형\n"
     ]
    },
    {
     "data": {
      "text/plain": [
       "'중형'"
      ]
     },
     "execution_count": 130,
     "metadata": {},
     "output_type": "execute_result"
    }
   ],
   "source": [
    "mothercar.car_size()"
   ]
  },
  {
   "cell_type": "markdown",
   "metadata": {},
   "source": [
    "# 상속"
   ]
  },
  {
   "cell_type": "code",
   "execution_count": 136,
   "metadata": {},
   "outputs": [],
   "source": [
    "class Car(object):\n",
    "    def __init__(self,wheel):\n",
    "        \"\"\"\n",
    "        param:wheel,list\n",
    "        \n",
    "        \"\"\"\n",
    "        for w in wheel:\n",
    "            if w.size !=40:\n",
    "                return False\n",
    "        self.wheel=wheel"
   ]
  },
  {
   "cell_type": "code",
   "execution_count": 138,
   "metadata": {},
   "outputs": [],
   "source": [
    "class Wheel(object):\n",
    "    def __init__(self,size):\n",
    "        self.size=size\n",
    "        self.shield=30"
   ]
  },
  {
   "cell_type": "code",
   "execution_count": 139,
   "metadata": {},
   "outputs": [],
   "source": [
    "wheels=[Wheel(40),Wheel(40),Wheel(40),Wheel(40)]\n",
    "car=Car(wheels)"
   ]
  },
  {
   "cell_type": "markdown",
   "metadata": {},
   "source": [
    "빅히트 동물의 숲"
   ]
  },
  {
   "cell_type": "code",
   "execution_count": 145,
   "metadata": {},
   "outputs": [],
   "source": [
    "class Hitman:\n",
    "    def intro(self):\n",
    "        print('안녕하세요 방시혁입니다')"
   ]
  },
  {
   "cell_type": "code",
   "execution_count": 146,
   "metadata": {},
   "outputs": [],
   "source": [
    "class BTS:\n",
    "    def intro(self):\n",
    "        print('안녕하세요 방탄소년단 입니다')"
   ]
  },
  {
   "cell_type": "code",
   "execution_count": 147,
   "metadata": {},
   "outputs": [],
   "source": [
    "class TXT:\n",
    "    def intro(self):\n",
    "        print('안녕하세요 투모로우바이투게더 입니다')"
   ]
  },
  {
   "cell_type": "code",
   "execution_count": 173,
   "metadata": {},
   "outputs": [],
   "source": [
    "class Bighit():\n",
    "    def __init__(self,name):\n",
    "        self.__hungry=0\n",
    "        self.name=name\n",
    "        \n",
    "    def intro(self):\n",
    "        print('안녕하세요 빅히트입니다.')\n",
    "        \n",
    "    def eat(self):\n",
    "        self.__hungry -=10"
   ]
  },
  {
   "cell_type": "code",
   "execution_count": 174,
   "metadata": {},
   "outputs": [],
   "source": [
    "class Hitman(Bighit):#자식,부모(Dog대타)\n",
    "    def __init__(self,name,type_):\n",
    "        self.type_=type_#부모클래스에 정의되어있어 name 생략\n",
    "        super().__init__(name)#부모클래스에 있는 메소드 접근->hungry,name 사용"
   ]
  },
  {
   "cell_type": "code",
   "execution_count": 150,
   "metadata": {},
   "outputs": [],
   "source": [
    "class BTS(Bighit):\n",
    "    pass"
   ]
  },
  {
   "cell_type": "code",
   "execution_count": 151,
   "metadata": {},
   "outputs": [],
   "source": [
    "bsh=Hitman()\n",
    "suga=BTS() #상속받은 인스턴스에서 사용 가능"
   ]
  },
  {
   "cell_type": "code",
   "execution_count": 152,
   "metadata": {},
   "outputs": [
    {
     "name": "stdout",
     "output_type": "stream",
     "text": [
      "안녕하세요 빅히트입니다.\n"
     ]
    }
   ],
   "source": [
    "suga.intro()"
   ]
  },
  {
   "cell_type": "code",
   "execution_count": 153,
   "metadata": {},
   "outputs": [
    {
     "name": "stdout",
     "output_type": "stream",
     "text": [
      "안녕하세요 빅히트입니다.\n"
     ]
    }
   ],
   "source": [
    "bsh.intro()"
   ]
  },
  {
   "cell_type": "code",
   "execution_count": 200,
   "metadata": {},
   "outputs": [],
   "source": [
    "from abc import *"
   ]
  },
  {
   "cell_type": "code",
   "execution_count": 201,
   "metadata": {},
   "outputs": [],
   "source": [
    "class Bird(Bighit):\n",
    "    def fly(self):\n",
    "        pass\n",
    "    \n",
    "class Svt(Bighit,metaclass=ABCMeta):#LandAnimal 대체\n",
    "    def __init__(self,name):\n",
    "        super().__init__(name)\n",
    "        \n",
    "    @abstractmethod #추상클래스:규격을 맞춰주는 것\n",
    "    def walk(self):\n",
    "        pass\n",
    "    #def walk(self):\n",
    "        #raise NotImplementedError\n",
    "        \n",
    "class Gfrd(Bighit):\n",
    "    def swim(self):\n",
    "        pass"
   ]
  },
  {
   "cell_type": "code",
   "execution_count": 160,
   "metadata": {},
   "outputs": [],
   "source": [
    "#스펙을 상속개념으로 바꿔야함\n",
    "class Craw(Bird):\n",
    "    def cry(self):\n",
    "        print('까악까악')"
   ]
  },
  {
   "cell_type": "code",
   "execution_count": 204,
   "metadata": {},
   "outputs": [],
   "source": [
    "class Lion(Svt):\n",
    "    def __init__(self,name,type_):\n",
    "        self.type_=type_\n",
    "        super().__init__(name)\n",
    "        \n",
    "    def intro(self):#메소드 오버라이딩(부모의 메소드를 대체)\n",
    "        print('여기 선물상자가 있어요!!!')\n",
    "        #부모클래스 메소드 사용\n",
    "        super().intro()\n",
    "        \n",
    "    def cry(self):\n",
    "        print('어흥')\n",
    "        \n",
    "    def walk(self):\n",
    "        print('걷기','타박타박')"
   ]
  },
  {
   "cell_type": "code",
   "execution_count": 205,
   "metadata": {},
   "outputs": [
    {
     "name": "stdout",
     "output_type": "stream",
     "text": [
      "어흥\n",
      "여기 선물상자가 있어요!!!\n",
      "안녕하세요 빅히트입니다.\n"
     ]
    }
   ],
   "source": [
    "lion1=Lion('어흥이','아프리카 사자')\n",
    "lion1.cry()\n",
    "lion1.intro()"
   ]
  },
  {
   "cell_type": "code",
   "execution_count": 206,
   "metadata": {},
   "outputs": [
    {
     "name": "stdout",
     "output_type": "stream",
     "text": [
      "걷기 타박타박\n"
     ]
    }
   ],
   "source": [
    "lion1.walk()"
   ]
  },
  {
   "cell_type": "code",
   "execution_count": 207,
   "metadata": {},
   "outputs": [
    {
     "data": {
      "text/plain": [
       "'아프리카 사자'"
      ]
     },
     "execution_count": 207,
     "metadata": {},
     "output_type": "execute_result"
    }
   ],
   "source": [
    "lion1.type_"
   ]
  },
  {
   "cell_type": "code",
   "execution_count": 187,
   "metadata": {},
   "outputs": [
    {
     "name": "stdout",
     "output_type": "stream",
     "text": [
      "안녕하세요 빅히트입니다.\n"
     ]
    }
   ],
   "source": [
    "suga.intro()"
   ]
  },
  {
   "cell_type": "markdown",
   "metadata": {},
   "source": [
    "# 다중상속"
   ]
  },
  {
   "cell_type": "code",
   "execution_count": 213,
   "metadata": {},
   "outputs": [],
   "source": [
    "class Bird(Bighit):\n",
    "    def __init__(self,name):\n",
    "        self.has_wing=True\n",
    "        super().__init__(name)"
   ]
  },
  {
   "cell_type": "code",
   "execution_count": 211,
   "metadata": {},
   "outputs": [],
   "source": [
    "class Fliable(object,metaclass=ABCMeta):\n",
    "    @abstractmethod\n",
    "    def fly(self):\n",
    "        pass"
   ]
  },
  {
   "cell_type": "code",
   "execution_count": 212,
   "metadata": {},
   "outputs": [],
   "source": [
    "class Walkable(object,metaclass=ABCMeta):\n",
    "    @abstractmethod\n",
    "    def walk(self):\n",
    "        pass"
   ]
  },
  {
   "cell_type": "code",
   "execution_count": 215,
   "metadata": {},
   "outputs": [],
   "source": [
    "class Ostrich(Bird,Walkable):\n",
    "    def __init__(self,name):\n",
    "        super().__init(name)\n",
    "    def walk(self):\n",
    "        print('탁탁')"
   ]
  },
  {
   "cell_type": "markdown",
   "metadata": {},
   "source": [
    "# 예외처리"
   ]
  },
  {
   "cell_type": "code",
   "execution_count": 216,
   "metadata": {},
   "outputs": [
    {
     "ename": "ZeroDivisionError",
     "evalue": "division by zero",
     "output_type": "error",
     "traceback": [
      "\u001b[1;31m---------------------------------------------------------------------------\u001b[0m",
      "\u001b[1;31mZeroDivisionError\u001b[0m                         Traceback (most recent call last)",
      "\u001b[1;32m<ipython-input-216-fcc871b1b29d>\u001b[0m in \u001b[0;36m<module>\u001b[1;34m\u001b[0m\n\u001b[1;32m----> 1\u001b[1;33m \u001b[0ma\u001b[0m\u001b[1;33m=\u001b[0m\u001b[1;36m10\u001b[0m\u001b[1;33m/\u001b[0m\u001b[1;36m0\u001b[0m\u001b[1;33m\u001b[0m\u001b[1;33m\u001b[0m\u001b[0m\n\u001b[0m\u001b[0;32m      2\u001b[0m \u001b[0ma\u001b[0m\u001b[1;33m\u001b[0m\u001b[1;33m\u001b[0m\u001b[0m\n",
      "\u001b[1;31mZeroDivisionError\u001b[0m: division by zero"
     ]
    }
   ],
   "source": [
    "a=10/0\n",
    "a"
   ]
  },
  {
   "cell_type": "code",
   "execution_count": 222,
   "metadata": {},
   "outputs": [
    {
     "name": "stdout",
     "output_type": "stream",
     "text": [
      "에러없이 끝났습니다.\n",
      "모든 연산이 끝났습니다.\n"
     ]
    }
   ],
   "source": [
    "try:\n",
    "    #a=10/0\n",
    "    a=10/2\n",
    "except ZeroDivisionError:\n",
    "    print('0으로 나눌 수 없습니다.')\n",
    "else:\n",
    "    print('에러없이 끝났습니다.')\n",
    "finally:\n",
    "    print('모든 연산이 끝났습니다.')"
   ]
  },
  {
   "cell_type": "code",
   "execution_count": 220,
   "metadata": {},
   "outputs": [
    {
     "name": "stdout",
     "output_type": "stream",
     "text": [
      "숫자를 0으로 나눌수 없음 division by zero\n"
     ]
    }
   ],
   "source": [
    "x=[1,2,3]\n",
    "try:\n",
    "    print(10 / 0)\n",
    "    y[5]\n",
    "\n",
    "except ZeroDivisionError as e:\n",
    "     print('숫자를 0으로 나눌수 없음', e)\n",
    "except IndexError as e:\n",
    "    print('잘못된 인덱스', e)\n"
   ]
  },
  {
   "cell_type": "code",
   "execution_count": 223,
   "metadata": {},
   "outputs": [
    {
     "name": "stdout",
     "output_type": "stream",
     "text": [
      "에러 발생\n"
     ]
    }
   ],
   "source": [
    "try:\n",
    "    a=10/0\n",
    "except Exception:#모든 에러들은 Exception을 상속받는다.\n",
    "    print('에러 발생')"
   ]
  },
  {
   "cell_type": "code",
   "execution_count": 224,
   "metadata": {},
   "outputs": [
    {
     "data": {
      "text/plain": [
       "Exception"
      ]
     },
     "execution_count": 224,
     "metadata": {},
     "output_type": "execute_result"
    }
   ],
   "source": [
    "Exception"
   ]
  },
  {
   "cell_type": "code",
   "execution_count": 228,
   "metadata": {},
   "outputs": [
    {
     "name": "stdout",
     "output_type": "stream",
     "text": [
      "index error 발생\n"
     ]
    }
   ],
   "source": [
    "try:\n",
    "    a=[3,4,5]\n",
    "    print(a[3])\n",
    "except ZeroDivisionError:\n",
    "    print('zero devieion error 발생')\n",
    "    \n",
    "except IndexError:\n",
    "    print('index error 발생')\n",
    "except Exception:\n",
    "    print('Exception')"
   ]
  },
  {
   "cell_type": "code",
   "execution_count": 8,
   "metadata": {},
   "outputs": [
    {
     "ename": "Exception",
     "evalue": "에러 발생",
     "output_type": "error",
     "traceback": [
      "\u001b[1;31m---------------------------------------------------------------------------\u001b[0m",
      "\u001b[1;31mException\u001b[0m                                 Traceback (most recent call last)",
      "\u001b[1;32m<ipython-input-8-cd1ddd48234f>\u001b[0m in \u001b[0;36m<module>\u001b[1;34m\u001b[0m\n\u001b[1;32m----> 1\u001b[1;33m \u001b[1;32mraise\u001b[0m \u001b[0mException\u001b[0m\u001b[1;33m(\u001b[0m\u001b[1;34m'에러 발생'\u001b[0m\u001b[1;33m)\u001b[0m\u001b[1;33m\u001b[0m\u001b[1;33m\u001b[0m\u001b[0m\n\u001b[0m",
      "\u001b[1;31mException\u001b[0m: 에러 발생"
     ]
    }
   ],
   "source": [
    "raise Exception('에러 발생')"
   ]
  },
  {
   "cell_type": "code",
   "execution_count": 5,
   "metadata": {},
   "outputs": [
    {
     "ename": "ValueError",
     "evalue": "에러발생",
     "output_type": "error",
     "traceback": [
      "\u001b[1;31m---------------------------------------------------------------------------\u001b[0m",
      "\u001b[1;31mValueError\u001b[0m                                Traceback (most recent call last)",
      "\u001b[1;32m<ipython-input-5-d82b277ee9b2>\u001b[0m in \u001b[0;36m<module>\u001b[1;34m\u001b[0m\n\u001b[1;32m----> 1\u001b[1;33m \u001b[1;32mraise\u001b[0m \u001b[0mValueError\u001b[0m\u001b[1;33m(\u001b[0m\u001b[1;34m'에러발생'\u001b[0m\u001b[1;33m)\u001b[0m\u001b[1;33m\u001b[0m\u001b[1;33m\u001b[0m\u001b[0m\n\u001b[0m",
      "\u001b[1;31mValueError\u001b[0m: 에러발생"
     ]
    }
   ],
   "source": [
    "raise ValueError('에러발생')"
   ]
  },
  {
   "cell_type": "code",
   "execution_count": 6,
   "metadata": {},
   "outputs": [],
   "source": [
    "class NotMatchArgsError(Exception):\n",
    "    pass\n",
    "\n",
    "def calc(*args):\n",
    "    if len(args)<2:\n",
    "        raise NotMatchArgsError"
   ]
  },
  {
   "cell_type": "code",
   "execution_count": 7,
   "metadata": {},
   "outputs": [
    {
     "ename": "NotMatchArgsError",
     "evalue": "",
     "output_type": "error",
     "traceback": [
      "\u001b[1;31m---------------------------------------------------------------------------\u001b[0m",
      "\u001b[1;31mNotMatchArgsError\u001b[0m                         Traceback (most recent call last)",
      "\u001b[1;32m<ipython-input-7-56fa1e8d2ba6>\u001b[0m in \u001b[0;36m<module>\u001b[1;34m\u001b[0m\n\u001b[1;32m----> 1\u001b[1;33m \u001b[0mcalc\u001b[0m\u001b[1;33m(\u001b[0m\u001b[1;36m1\u001b[0m\u001b[1;33m)\u001b[0m\u001b[1;33m\u001b[0m\u001b[1;33m\u001b[0m\u001b[0m\n\u001b[0m",
      "\u001b[1;32m<ipython-input-6-8a146df765f2>\u001b[0m in \u001b[0;36mcalc\u001b[1;34m(*args)\u001b[0m\n\u001b[0;32m      4\u001b[0m \u001b[1;32mdef\u001b[0m \u001b[0mcalc\u001b[0m\u001b[1;33m(\u001b[0m\u001b[1;33m*\u001b[0m\u001b[0margs\u001b[0m\u001b[1;33m)\u001b[0m\u001b[1;33m:\u001b[0m\u001b[1;33m\u001b[0m\u001b[1;33m\u001b[0m\u001b[0m\n\u001b[0;32m      5\u001b[0m     \u001b[1;32mif\u001b[0m \u001b[0mlen\u001b[0m\u001b[1;33m(\u001b[0m\u001b[0margs\u001b[0m\u001b[1;33m)\u001b[0m\u001b[1;33m<\u001b[0m\u001b[1;36m2\u001b[0m\u001b[1;33m:\u001b[0m\u001b[1;33m\u001b[0m\u001b[1;33m\u001b[0m\u001b[0m\n\u001b[1;32m----> 6\u001b[1;33m         \u001b[1;32mraise\u001b[0m \u001b[0mNotMatchArgsError\u001b[0m\u001b[1;33m\u001b[0m\u001b[1;33m\u001b[0m\u001b[0m\n\u001b[0m",
      "\u001b[1;31mNotMatchArgsError\u001b[0m: "
     ]
    }
   ],
   "source": [
    "calc(1)"
   ]
  },
  {
   "cell_type": "code",
   "execution_count": null,
   "metadata": {},
   "outputs": [],
   "source": []
  }
 ],
 "metadata": {
  "kernelspec": {
   "display_name": "Python 3",
   "language": "python",
   "name": "python3"
  },
  "language_info": {
   "codemirror_mode": {
    "name": "ipython",
    "version": 3
   },
   "file_extension": ".py",
   "mimetype": "text/x-python",
   "name": "python",
   "nbconvert_exporter": "python",
   "pygments_lexer": "ipython3",
   "version": "3.8.3"
  }
 },
 "nbformat": 4,
 "nbformat_minor": 4
}
