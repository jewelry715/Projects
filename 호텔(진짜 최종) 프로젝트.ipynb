{
 "cells": [
  {
   "cell_type": "code",
   "execution_count": 1,
   "metadata": {},
   "outputs": [],
   "source": [
    "from bs4 import BeautifulSoup as bs\n",
    "import time\n",
    "import requests\n",
    "import json\n",
    "import pandas as pd\n",
    "import json\n",
    "import urllib\n",
    "import platform\n",
    "from matplotlib import font_manager,rc\n",
    "import matplotlib.pyplot as plt"
   ]
  },
  {
   "cell_type": "code",
   "execution_count": 6,
   "metadata": {
    "scrolled": false
   },
   "outputs": [],
   "source": [
    "def booking(pages,places,checkin,checkout):\n",
    "    base_url='https://www.booking.com/searchresults.ko.html'\n",
    "    total=[]\n",
    "    for i in range(pages):\n",
    "        params={\n",
    "            'top_ufis':1,\n",
    "            'rows':25,\n",
    "            'group_adults':1,\n",
    "            'group_children':0,\n",
    "            'label_click':'undef',\n",
    "            'checkin_month':checkin.split(\"-\")[1],\n",
    "            'checkin_monthday':checkin.split(\"-\")[2],\n",
    "            'checkin_year':checkin.split(\"-\")[0],\n",
    "            'checkout_month':checkout.split(\"-\")[1],\n",
    "            'checkout_monthday':checkout.split(\"-\")[2],\n",
    "            'checkout_year':checkout.split(\"-\")[0],\n",
    "            'no_rooms':1,\n",
    "            #'raw_dest_type':'region',\n",
    "            'offset':25*i,   \n",
    "            'sb_price_type': 'total',\n",
    "            'ss': places,\n",
    "            #'src_elem': 'sb', \n",
    "            #'ss_all':0,\n",
    "            #'ssb': 'empty',\n",
    "            #'dest_type': 'region',\n",
    "            #'search_pageview_id': 'b78a37b8196a0080'\n",
    "            'search_selected':1\n",
    "        }\n",
    "        headers = {\n",
    "            'Referer': 'https://www.booking.com/searchresults.ko.html',\n",
    "            'Cookie': 'cors_js=1; _gcl_au=1.1.1758010469.1596413772; bs=%7B%22sr_country_or_region_page%22%3A%22region%22%7D; _ga=GA1.2.882061434.1596413773; _gid=GA1.2.1846610763.1596413773; BJS=-; zz_cook_tms_seg1=1; zz_cook_tms_ep=1; zz_cook_tms_seg3=7; _scid=dff99b5d-2e14-4af2-9550-58237e3d9d4c; _pxvid=8ac1c871-d51e-11ea-b163-0242ac120009; _sctr=1|1596380400000; _pin_unauth=dWlkPU9UazVabVF4T1RRdE56bGhPQzAwTUdabUxXSm1ORFF0WldRMVptVmpNemRrWXpVdw; has_preloaded=1; zz_cook_tms_hlist=3317637; g_state={\"i_p\":1596531334237,\"i_l\":2}; utag_main=v_id:0173b1ad0651001df4a85a0a77f203073044706b00bd0$_sn:1$_ss:0$_st:1596448493168$4split:2$4split2:1$ses_id:1596413773394%3Bexp-session$_pn:16%3Bexp-session; _uetsid=f2d8e4c9c62246a0bed0af7e885f8c9f; _uetvid=269cfd473b2529680b9b538f1b46fbc1; bkng=11UmFuZG9tSVYkc2RlIyh9Yaa29%2F3xUOLbXpFeYC4TUhBdXo35xAS%2BPyXteEmAF00C7ntv3OHZGFN5Omw3tnwU%2F3rlk1nbz%2BONusrZE%2BcQgZLBk0JeBSBtWgSf%2BJ%2BC2ShbUfWTKv6cwfj%2FUbmattwzhSpTIYyiyIWa7e5d6rxwuVVQqabr7YAgMkH%2F%2Fu6fNsyuyQoTASDGyEw%3D; _px3=534b016a13eceb8dfd91bad5c3807ed4049eeef67f96ffa26e4b9b0710069380:RhcCPVe8GBdA9jMG9PvURiL0ylPlLetN980mHJcuwmC2w9omcccJP2dnTAIXjLyb5eVJcGGTsFBxUVGdCNCg6g==:1000:sGlUhQDbcD++cAinRcf8FQIrgXsopgDXZYkK7uRiQhuAUhE1XXniOrLt6s/Gb1GMVWTdokUn2mREYh+JnCAJ6PpWZsrVHgWYSaF8wEucBT9rs5PjjXKHUrT7Y6DZV/P832v9mal2qz9asNi/uf7Gt9o/kTvyVoqN90YhP8ivD2M=; _pxde=8e07b07f8b1c1d5d950a0e87a21708a96b04456fe969788c88d7c52548705a1e:eyJ0aW1lc3RhbXAiOjE1OTY0NDY3NjkxMjMsImZfa2IiOjAsImlwY19pZCI6W119; lastSeen=0',\n",
    "            'User-Agent': 'Mozilla/5.0 (Windows NT 10.0; Win64; x64) AppleWebKit/537.36 (KHTML, like Gecko) Chrome/84.0.4147.105 Safari/537.36'    }\n",
    "        resp=requests.get(base_url,params=params, headers=headers)\n",
    "        soup=BeautifulSoup(resp.text)\n",
    "\n",
    "    #     hotellist_inner=soup.find('div',id='hotellist_inner')\n",
    "    #     hotels=hotellist_inner.find_all('div', class_='sr_item')\n",
    "        hotels = soup.find_all('div', class_='sr_item')\n",
    "\n",
    "        hotel_list=[]\n",
    "        for hotel in hotels:        \n",
    "            names=hotel.find('span',class_='sr-hotel__name')\n",
    "            name=names.text#호텔이름\n",
    "            reviews=hotel.find('div',class_='bui-review-score__badge')\n",
    "            if reviews:\n",
    "                review=reviews.text\n",
    "            else:\n",
    "                review= None\n",
    "            prices=hotel.find('div',class_='bui-price-display__value')\n",
    "            price=prices.text\n",
    "\n",
    "            counts=hotel.find('div',class_='bui-review-score__text')\n",
    "            if counts:\n",
    "                count = counts.text\n",
    "            else:\n",
    "                count = 0\n",
    "            hotel_list.append({\n",
    "                'name':name,\n",
    "                'reviews':review,\n",
    "                'count':count,\n",
    "                'price':price\n",
    "            })\n",
    "        total.extend(hotel_list)\n",
    "     #데이터 잔처리,중복제거   \n",
    "    for i in total:\n",
    "        i['name']=i['name'].replace(\"\\n\",\"\").strip()\n",
    "        if i['reviews']!=None:\n",
    "            i['reviews']=i['reviews'].strip()\n",
    "            i['reviews']=float(i['reviews'])\n",
    "        i['price']=i['price'].replace(\"\\n\",\"\").strip()\n",
    "        i['price']=i['price'].replace(\"₩\",\"\").strip()\n",
    "        if i['count']!=0:\n",
    "            i['count']=i['count'].strip()\n",
    "            a=i['count'].index('개')\n",
    "            count_str = i['count'][0:a]\n",
    "            count_str = count_str.replace(',', '')\n",
    "            i['count']=float(count_str)\n",
    "        i['price']=i['price'].replace(',','')\n",
    "        i['price']=float(i['price'])\n",
    "        #print(i)\n",
    "    result_list=list({s['name']:s for s in total}.values()) \n",
    "    return result_list"
   ]
  },
  {
   "cell_type": "code",
   "execution_count": 18,
   "metadata": {},
   "outputs": [],
   "source": [
    "result=booking(1,'부산','2020-08-16','2020-08-17')"
   ]
  },
  {
   "cell_type": "code",
   "execution_count": 19,
   "metadata": {},
   "outputs": [
    {
     "data": {
      "text/plain": [
       "[{'name': '더 비에스 호텔 부산역', 'reviews': 8.3, 'count': 686.0, 'price': 51000.0},\n",
       " {'name': '펠릭스 바이 STX 호텔 & 스위트',\n",
       "  'reviews': 8.6,\n",
       "  'count': 1650.0,\n",
       "  'price': 166000.0},\n",
       " {'name': '파크하얏트 부산', 'reviews': 8.8, 'count': 791.0, 'price': 715000.0},\n",
       " {'name': '신라스테이 해운대', 'reviews': 8.1, 'count': 1440.0, 'price': 506000.0},\n",
       " {'name': '베스트웨스턴 해운대 호텔', 'reviews': 8.1, 'count': 1966.0, 'price': 180000.0},\n",
       " {'name': '센텀 프리미어 호텔', 'reviews': 8.2, 'count': 1315.0, 'price': 77000.0},\n",
       " {'name': '해운대 센텀 호텔', 'reviews': 8.2, 'count': 1484.0, 'price': 143000.0},\n",
       " {'name': '토요코인 부산 해운대 2', 'reviews': 8.4, 'count': 1410.0, 'price': 41000.0},\n",
       " {'name': '부산 웨스틴조선호텔', 'reviews': 8.5, 'count': 455.0, 'price': 451000.0},\n",
       " {'name': '해운대 마리안느 호텔', 'reviews': 7.6, 'count': 991.0, 'price': 137500.0},\n",
       " {'name': '라발스호텔', 'reviews': 8.3, 'count': 584.0, 'price': 203000.0},\n",
       " {'name': '농심 호텔', 'reviews': 8.4, 'count': 544.0, 'price': 108000.0},\n",
       " {'name': '호텔 더 마크 해운대', 'reviews': 7.2, 'count': 524.0, 'price': 137280.0},\n",
       " {'name': '토요코인 부산역1호점', 'reviews': 8.3, 'count': 1410.0, 'price': 48000.0},\n",
       " {'name': '라마다 앙코르 바이 윈덤 부산 해운대',\n",
       "  'reviews': 8.5,\n",
       "  'count': 1093.0,\n",
       "  'price': 315700.0},\n",
       " {'name': '크라운 하버 호텔 부산', 'reviews': 8.4, 'count': 828.0, 'price': 85000.0},\n",
       " {'name': '라비드 아틀란 호텔', 'reviews': 8.0, 'count': 332.0, 'price': 197600.0},\n",
       " {'name': 'ibis budget Ambassador Busan Haeundae',\n",
       "  'reviews': 8.4,\n",
       "  'count': 1200.0,\n",
       "  'price': 105600.0},\n",
       " {'name': 'MS 호텔 해운대', 'reviews': 8.6, 'count': 1112.0, 'price': 187000.0},\n",
       " {'name': '토요코인 부산해운대 1', 'reviews': 8.1, 'count': 293.0, 'price': 46000.0},\n",
       " {'name': '호텔 109', 'reviews': 8.6, 'count': 749.0, 'price': 74385.0},\n",
       " {'name': '캔버스 호스텔', 'reviews': 7.9, 'count': 2650.0, 'price': 27272.0},\n",
       " {'name': '베니키아 호텔 해운대', 'reviews': 7.8, 'count': 1249.0, 'price': 159000.0},\n",
       " {'name': '김치 해운대 게스트하우스', 'reviews': 8.4, 'count': 821.0, 'price': 21600.0},\n",
       " {'name': '호텔 아벤트리 부산', 'reviews': 8.7, 'count': 1113.0, 'price': 88000.0}]"
      ]
     },
     "execution_count": 19,
     "metadata": {},
     "output_type": "execute_result"
    }
   ],
   "source": [
    "result"
   ]
  },
  {
   "cell_type": "code",
   "execution_count": 20,
   "metadata": {},
   "outputs": [
    {
     "data": {
      "text/plain": [
       "'센텀 프리미어 호텔'"
      ]
     },
     "execution_count": 20,
     "metadata": {},
     "output_type": "execute_result"
    }
   ],
   "source": [
    "result[5]['name']"
   ]
  },
  {
   "cell_type": "markdown",
   "metadata": {},
   "source": [
    "## 데이터프레임"
   ]
  },
  {
   "cell_type": "code",
   "execution_count": 28,
   "metadata": {
    "collapsed": true
   },
   "outputs": [
    {
     "data": {
      "text/html": [
       "<div>\n",
       "<style scoped>\n",
       "    .dataframe tbody tr th:only-of-type {\n",
       "        vertical-align: middle;\n",
       "    }\n",
       "\n",
       "    .dataframe tbody tr th {\n",
       "        vertical-align: top;\n",
       "    }\n",
       "\n",
       "    .dataframe thead th {\n",
       "        text-align: right;\n",
       "    }\n",
       "</style>\n",
       "<table border=\"1\" class=\"dataframe\">\n",
       "  <thead>\n",
       "    <tr style=\"text-align: right;\">\n",
       "      <th></th>\n",
       "      <th>name</th>\n",
       "      <th>reviews</th>\n",
       "      <th>price</th>\n",
       "      <th>count</th>\n",
       "    </tr>\n",
       "  </thead>\n",
       "  <tbody>\n",
       "    <tr>\n",
       "      <th>0</th>\n",
       "      <td>제주 마레보 비치 호텔</td>\n",
       "      <td>8.3</td>\n",
       "      <td>208800</td>\n",
       "      <td>637</td>\n",
       "    </tr>\n",
       "    <tr>\n",
       "      <th>1</th>\n",
       "      <td>중문시티호텔</td>\n",
       "      <td>7.8</td>\n",
       "      <td>37410</td>\n",
       "      <td>444</td>\n",
       "    </tr>\n",
       "    <tr>\n",
       "      <th>2</th>\n",
       "      <td>케니 스토리 인</td>\n",
       "      <td>8.3</td>\n",
       "      <td>35100</td>\n",
       "      <td>1527</td>\n",
       "    </tr>\n",
       "    <tr>\n",
       "      <th>3</th>\n",
       "      <td>데이즈호텔 제주 서귀포</td>\n",
       "      <td>8.0</td>\n",
       "      <td>54000</td>\n",
       "      <td>2049</td>\n",
       "    </tr>\n",
       "    <tr>\n",
       "      <th>4</th>\n",
       "      <td>파인힐호텔</td>\n",
       "      <td>8.0</td>\n",
       "      <td>38700</td>\n",
       "      <td>406</td>\n",
       "    </tr>\n",
       "    <tr>\n",
       "      <th>5</th>\n",
       "      <td>코업시티호텔 성산</td>\n",
       "      <td>8.2</td>\n",
       "      <td>43900</td>\n",
       "      <td>1787</td>\n",
       "    </tr>\n",
       "    <tr>\n",
       "      <th>6</th>\n",
       "      <td>아트스테이 서귀포 하버</td>\n",
       "      <td>8.5</td>\n",
       "      <td>54600</td>\n",
       "      <td>2125</td>\n",
       "    </tr>\n",
       "    <tr>\n",
       "      <th>7</th>\n",
       "      <td>제주 뉴오션 리조트</td>\n",
       "      <td>7.5</td>\n",
       "      <td>63000</td>\n",
       "      <td>75</td>\n",
       "    </tr>\n",
       "    <tr>\n",
       "      <th>8</th>\n",
       "      <td>라마다 앙코르 서귀포 호텔</td>\n",
       "      <td>7.8</td>\n",
       "      <td>40500</td>\n",
       "      <td>2169</td>\n",
       "    </tr>\n",
       "    <tr>\n",
       "      <th>9</th>\n",
       "      <td>블루 하와이 호텔</td>\n",
       "      <td>7.8</td>\n",
       "      <td>55000</td>\n",
       "      <td>248</td>\n",
       "    </tr>\n",
       "    <tr>\n",
       "      <th>10</th>\n",
       "      <td>미몽</td>\n",
       "      <td>9.3</td>\n",
       "      <td>31000</td>\n",
       "      <td>254</td>\n",
       "    </tr>\n",
       "    <tr>\n",
       "      <th>11</th>\n",
       "      <td>해나 게스트하우스</td>\n",
       "      <td>9.2</td>\n",
       "      <td>23000</td>\n",
       "      <td>53</td>\n",
       "    </tr>\n",
       "    <tr>\n",
       "      <th>12</th>\n",
       "      <td>더 베스트 제주 성산</td>\n",
       "      <td>8.3</td>\n",
       "      <td>86007</td>\n",
       "      <td>3025</td>\n",
       "    </tr>\n",
       "    <tr>\n",
       "      <th>13</th>\n",
       "      <td>제주 해호텔</td>\n",
       "      <td>7.9</td>\n",
       "      <td>36000</td>\n",
       "      <td>529</td>\n",
       "    </tr>\n",
       "    <tr>\n",
       "      <th>14</th>\n",
       "      <td>호텔 알레그리아 서귀포</td>\n",
       "      <td>8.0</td>\n",
       "      <td>37840</td>\n",
       "      <td>783</td>\n",
       "    </tr>\n",
       "    <tr>\n",
       "      <th>15</th>\n",
       "      <td>성산 전망좋은 게스트하우스</td>\n",
       "      <td>9.3</td>\n",
       "      <td>20000</td>\n",
       "      <td>346</td>\n",
       "    </tr>\n",
       "    <tr>\n",
       "      <th>16</th>\n",
       "      <td>체이슨 호텔 더 리드</td>\n",
       "      <td>9.1</td>\n",
       "      <td>44550</td>\n",
       "      <td>801</td>\n",
       "    </tr>\n",
       "    <tr>\n",
       "      <th>17</th>\n",
       "      <td>스카이리더스 호텔</td>\n",
       "      <td>7.2</td>\n",
       "      <td>32400</td>\n",
       "      <td>518</td>\n",
       "    </tr>\n",
       "    <tr>\n",
       "      <th>18</th>\n",
       "      <td>라마다 제주시티호텔</td>\n",
       "      <td>8.2</td>\n",
       "      <td>62100</td>\n",
       "      <td>2389</td>\n",
       "    </tr>\n",
       "    <tr>\n",
       "      <th>19</th>\n",
       "      <td>화이트드림 펜션</td>\n",
       "      <td>7.4</td>\n",
       "      <td>60000</td>\n",
       "      <td>223</td>\n",
       "    </tr>\n",
       "    <tr>\n",
       "      <th>20</th>\n",
       "      <td>제주 수 펜션</td>\n",
       "      <td>9.0</td>\n",
       "      <td>58800</td>\n",
       "      <td>261</td>\n",
       "    </tr>\n",
       "    <tr>\n",
       "      <th>21</th>\n",
       "      <td>바다와 자전거</td>\n",
       "      <td>8.9</td>\n",
       "      <td>23000</td>\n",
       "      <td>217</td>\n",
       "    </tr>\n",
       "    <tr>\n",
       "      <th>22</th>\n",
       "      <td>빨간풍차펜션</td>\n",
       "      <td>8.0</td>\n",
       "      <td>36000</td>\n",
       "      <td>459</td>\n",
       "    </tr>\n",
       "    <tr>\n",
       "      <th>23</th>\n",
       "      <td>아이진 호텔</td>\n",
       "      <td>8.6</td>\n",
       "      <td>60800</td>\n",
       "      <td>1077</td>\n",
       "    </tr>\n",
       "    <tr>\n",
       "      <th>24</th>\n",
       "      <td>백패커스홈</td>\n",
       "      <td>9.1</td>\n",
       "      <td>18000</td>\n",
       "      <td>398</td>\n",
       "    </tr>\n",
       "    <tr>\n",
       "      <th>25</th>\n",
       "      <td>제주 노블레스 관광호텔</td>\n",
       "      <td>8.0</td>\n",
       "      <td>49500</td>\n",
       "      <td>754</td>\n",
       "    </tr>\n",
       "  </tbody>\n",
       "</table>\n",
       "</div>"
      ],
      "text/plain": [
       "              name  reviews   price  count\n",
       "0     제주 마레보 비치 호텔      8.3  208800    637\n",
       "1           중문시티호텔      7.8   37410    444\n",
       "2         케니 스토리 인      8.3   35100   1527\n",
       "3     데이즈호텔 제주 서귀포      8.0   54000   2049\n",
       "4            파인힐호텔      8.0   38700    406\n",
       "5        코업시티호텔 성산      8.2   43900   1787\n",
       "6     아트스테이 서귀포 하버      8.5   54600   2125\n",
       "7       제주 뉴오션 리조트      7.5   63000     75\n",
       "8   라마다 앙코르 서귀포 호텔      7.8   40500   2169\n",
       "9        블루 하와이 호텔      7.8   55000    248\n",
       "10              미몽      9.3   31000    254\n",
       "11       해나 게스트하우스      9.2   23000     53\n",
       "12     더 베스트 제주 성산      8.3   86007   3025\n",
       "13          제주 해호텔      7.9   36000    529\n",
       "14    호텔 알레그리아 서귀포      8.0   37840    783\n",
       "15  성산 전망좋은 게스트하우스      9.3   20000    346\n",
       "16     체이슨 호텔 더 리드      9.1   44550    801\n",
       "17       스카이리더스 호텔      7.2   32400    518\n",
       "18      라마다 제주시티호텔      8.2   62100   2389\n",
       "19        화이트드림 펜션      7.4   60000    223\n",
       "20         제주 수 펜션      9.0   58800    261\n",
       "21         바다와 자전거      8.9   23000    217\n",
       "22          빨간풍차펜션      8.0   36000    459\n",
       "23          아이진 호텔      8.6   60800   1077\n",
       "24           백패커스홈      9.1   18000    398\n",
       "25    제주 노블레스 관광호텔      8.0   49500    754"
      ]
     },
     "execution_count": 28,
     "metadata": {},
     "output_type": "execute_result"
    }
   ],
   "source": [
    "hotel=pd.DataFrame(test)\n",
    "hotel"
   ]
  },
  {
   "cell_type": "code",
   "execution_count": 30,
   "metadata": {},
   "outputs": [],
   "source": [
    "pd.DataFrame(hotel).to_csv('hotel.csv',encoding='cp949',index=False)"
   ]
  },
  {
   "cell_type": "code",
   "execution_count": 2,
   "metadata": {},
   "outputs": [],
   "source": [
    "class Hotel:\n",
    "    def __init__ (self,place,checkin,checkout,pages):\n",
    "        self.place=place\n",
    "        self.checkin=checkin\n",
    "        self.checkout=checkout\n",
    "        self.pages=pages\n",
    "        \n",
    "    #airbnb 크롤링\n",
    "    def airbnb(self):  #place = 장소, checkin = 체크인 날짜, checkout :체크아웃 날짜, pages=검색하고자 하는 페이지 수\n",
    "    \n",
    "    \n",
    "        result_list=[]  #크롤링 최종 결과를 담을 리스트\n",
    "\n",
    "        #에어비앤비는 offset이 20단위로 페이지가 변화 ex)offset 0 : 1페이지 , offset 1~20: 2페이지 \n",
    "        for page in range(1,self.pages+1): #입력받은 페이지 수만큼 모두 크롤링 하기 위해\n",
    "            if page==1:  #page가 1이면 offset=0\n",
    "                offset=0\n",
    "            else:\n",
    "                offset=page*20  #1보다 크면 page*20\n",
    "\n",
    "\n",
    "            #리퀘스트할 url과 파라미터 설정\n",
    "            base_url=\"https://www.airbnb.co.kr/s/%s/homes\" %self.place\n",
    "            params={'query': self.place,\n",
    "             'federated_search_session_id': 'e296e38b-6ec1-4296-9a81-f762cfb2c92a',\n",
    "             'source': 'structured_search_input_header',\n",
    "             'search_type': 'pagination',\n",
    "             'tab_id': 'home_tab',\n",
    "             'checkin': self.checkin,\n",
    "             'refinement_paths[]': '/homes',\n",
    "             'checkout': self.checkout,\n",
    "             'section_offset': '2',\n",
    "             'items_offset': offset}\n",
    "\n",
    "            resp=requests.get(base_url,params=params)\n",
    "            soup=bs(resp.text)\n",
    "            item_tags=soup.select(\"#FMP-target > div > div > div > div\")\n",
    "            len(item_tags[0])\n",
    "\n",
    "\n",
    "            #해당 숙소에 대한 상세페이지 url을 가져옴\n",
    "            a_tags=item_tags[0].find_all(\"a\")\n",
    "            url_list=[]\n",
    "            for i in a_tags:\n",
    "                url_list.append(\"https://www.airbnb.co.kr%s\" %i.get(\"href\"))\n",
    "\n",
    "\n",
    "            #숙소들의 가격정보를 가져옴\n",
    "            price_tags=item_tags[0].find_all(\"span\", class_=\"_1p7iugi\")\n",
    "            price_list=[]\n",
    "            for i in price_tags:\n",
    "                try:\n",
    "                    price=i.text.split(\":\")[2]\n",
    "                except:\n",
    "                    price=i.text.split(\":\")[1]\n",
    "                price=price.replace(\"₩\",\"\")\n",
    "                price=price.replace(\",\",\"\")\n",
    "                price_list.append(float(price))\n",
    "    \n",
    "            #숙소들의 리뷰 개수를 가져옴\n",
    "            count_reviews=item_tags[0].find_all(\"span\",class_=\"_krjbj\")\n",
    "            count_reviews\n",
    "            count_reviews_list=[]\n",
    "            for i in count_reviews:\n",
    "                if \"후기\" in str(i):\n",
    "                    count_reviews_list.append(i.text.split(\" \")[1].replace(\"개\",\"\"))\n",
    "\n",
    "            #숙소들의 이름과 평점을 가져옴\n",
    "            name_tags=item_tags[0].find_all(\"div\",class_=\"_1c2n35az\")\n",
    "            rate_tags=item_tags[0].find_all(\"span\",class_=\"_10fy1f8\")\n",
    "\n",
    "            result=[]\n",
    "\n",
    "            #앞에서 추출한 정보들을 딕셔너리화 하여 result 리스트에 추가\n",
    "            for n,r,p,c in zip(name_tags,rate_tags,price_list,count_reviews_list):\n",
    "                result.append({\n",
    "                    \"이름\":n.text,\n",
    "                    \"평점\":float(r.text),\n",
    "                    \"리뷰 개수\" :int(c),\n",
    "                    \"가격\":int(p),\n",
    "                    \"사이트\":\"AirBnb\"\n",
    "                })\n",
    "            for item in result:\n",
    "                if item[\"이름\"] not in result_list:\n",
    "                    result_list.append(item)\n",
    "\n",
    "\n",
    "\n",
    "        #최저 가격 숙소 / 최고 평점 숙소 구하기            \n",
    "        min_price=1000000\n",
    "        name_of_min_price=\"\"\n",
    "        min_url=\"\"\n",
    "\n",
    "        highest_rate=0.00\n",
    "        name_of_hr=\"\"\n",
    "        highest_url=\"\"\n",
    "\n",
    "        for item in result_list:\n",
    "            price=item[\"가격\"]\n",
    "#             price=price.replace(\"₩\",\"\")\n",
    "#             price=float(price.replace(\",\",\"\"))\n",
    "\n",
    "            if price<min_price:\n",
    "                min_price=price\n",
    "                name_of_min_price=item[\"이름\"]\n",
    "#                 min_url=item[\"링크\"]\n",
    "\n",
    "            rate=float(item[\"평점\"])\n",
    "            if rate>highest_rate:\n",
    "                highest_rate=rate\n",
    "                name_of_hr=item[\"이름\"]\n",
    "#                 highest_url=item[\"링크\"]\n",
    "\n",
    "\n",
    "        return result_list,\"최저 가격 숙소 : %s (가격 : %d), (url : %s )\" %(name_of_min_price,min_price,min_url),\"최고 평점 숙소 : %s (평점 : %.2f), (url : %s)\" %(name_of_hr,highest_rate,highest_url)\n",
    "\n",
    "    \n",
    "    def hotels(self):\n",
    "\n",
    "        result_list=[]\n",
    "        for page in range(1,self.pages+1):\n",
    "\n",
    "            base_url='https://kr.hotels.com/search/listings.json'\n",
    "            params={\n",
    "                #'pg-offset':page,\n",
    "                #'distination-id':'1644457', \n",
    "                'q-check-out':self.checkout,\n",
    "                'q-destination':self.place,\n",
    "                'q-check-out':self.checkout,\n",
    "                'q-rooms':1,\n",
    "                'q-room-0-adults':1,\n",
    "                'q-room-0-children':0,\n",
    "                'pg':1,\n",
    "                #'start-index':1,\n",
    "                'pn':page,\n",
    "                #'resolved-location':'REGION:1644457:UNKNOWN:UNKNOWN'\n",
    "            }\n",
    "\n",
    "            headers={\n",
    "                'content-type': 'application/javascript',\n",
    "                'x-requested-with': 'XMLHttpRequest',\n",
    "                #'referer':'https://kr.hotels.com/search.do?resolved-location=REGION%3A1644457%3AUNKNOWN%3AUNKNOWN&destination-id=1644457&q-destination={0}&q-check-in=2020-08-16&q-check-out=2020-08-17&q-rooms=1&q-room-0-adults=1&q-room-0-children=0'.format(urllib.parse.quote('제주도')),\n",
    "                'user-agent':'Mozilla/5.0 (Windows NT 10.0; Win64; x64) AppleWebKit/537.36 (KHTML, like Gecko) Chrome/84.0.4147.105 Safari/537.36',\n",
    "                'cookie': \"asc=1; homepage_search_data=7KCc7KO864-ELCDsoJzso7zsi5wsIO2VnOq1rQ..%2F%2F2020%2F08%2F16%2F%2F2020%2F08%2F17%2F%2F1%2F%2Fyyyy%2FMM%2Fdd%2F%2F1644457%2F%2F; guid=8c8ca612-b270-42cb-95aa-6232c2538458; user=QSprb19LUnxIQ09NX0tS; dr=AAA~1596523818~5C85BBDD535AE5EBF43E87FBF3ED905266EB65950AFBFD78AC0671363A77CA79; akacd_pr_20=1601707820~rv=31~id=44ca8f82368ff8df2ac1cef34c3ccc77; bm_sz=91F45291ECCBD9CF669AE98B49CA6C7D~YAAQa3pGaFBIOoBzAQAALzY8uAjOZf4bEil+pJ9j7T4xHGo5L0We9RrvFkah4Ntqo/cwcLTTJE/iBUXVgkfqE0iJKW9BFb7MP7TecuUec4RqjpNsP2kaEjHxE5mKNYefWc2HoK06cqN5xm/nP7KJBfW4ANgO3yTiCM6bebnDHYkGER21/OCeV4M8NejdwiHs; _ga=GA1.2.20859871.1596523819; _gid=GA1.2.1549673115.1596523819; s_ecid=MCMID%7C78976063976117546201547030336521815933; AMCVS_C00802BE5330A8350A490D4C%40AdobeOrg=1; mvthistory=eJxNj0kKQjEQRG8U0lN62LoRRAQv4PrfwcPb%2Bd2Kq7w8qorEbawxx0EQQJaEgap5zmCXsemwgAl8ugQZuKUHQAZOyUjDva3MqidYRWmzt4RZoGoFhr1iCpXXAOd1Spzm3xEko2IIFMQBFUZZNY5i0uBdX8QVg7xo2XFg0O%2BTANIgXOucvKilzupTMHJXeGGBQA%2FCZv1jK6bN3mHqF%2Be%2B27n%2Fvl4e99ft%2BQErFlFN; AMCV_C00802BE5330A8350A490D4C%40AdobeOrg=-1330315163%7CMCIDTS%7C18479%7CMCMID%7C78976063976117546201547030336521815933%7CMCAID%7CNONE%7CMCOPTOUT-1596531019s%7CNONE%7CMCAAMLH-1597128619%7C11%7CMCAAMB-1597128619%7Cj8Odv6LonN4r3an7LhD3WZrU1bUpAkFkkiY1ncBR96t2PTI; s_cc=true; _abck=2ED1A02051B8DEB245303D2079BFA297~0~YAAQa3pGaG1IOoBzAQAAYTo8uATWuv2nvnfdxtDM1HX8spMwJ/uePIa0J+yDDpECBjueRhJJnTCQeLN65aS9O2/FNU6d0/WCMG5BlCwygcTvGmmf7DWIa9LrwFv3vUW4KMvUIUG512ERyfZN6zGK1qfws1T/EYZq4oqOB5Z3c7VJPbnqwsjjsUB4/i1LiWyT4L8KcN0G7XXYdNhUl1lHg5uVd0k0Rlwxwk5ErlZ0/sI93o/ZSyhcdjCE/+mhsnRk0JPWMuhjnPmCvo7Z0ASd18VykJL4SQ3HDqBpsWs0pfZLvx7V0gFpd0DFflGEWV8jrY/lmk4QRw==~-1~-1~-1; _gcl_au=1.1.160751177.1596523820; _fbp=fb.1.1596523820167.896421725; 0e16e784-167b-49ee-b1ac-0ff7866eb4fbfaktorId=5cac8980-8e5b-4cc8-82d6-c10efc3d3428; lastConsentChange=1596523820269; 0e16e784-167b-49ee-b1ac-0ff7866eb4fbeuconsent=BO3mjO6O3mjO6ADABAENDV-AAAAx6ATgAUABoAEAAKwAXABkAEAAMgAaQBEAEUAI4ATAAngBbAEEAJAATgBCACpAHVARqA; 0e16e784-167b-49ee-b1ac-0ff7866eb4fbcconsent=BO3mjO6O3mjO6ADABAENA7AAAAAOWAAA; 0e16e784-167b-49ee-b1ac-0ff7866eb4fbfaktorChecksum=-1176279445; __gads=ID=0b734ce775df8ba2-222c1fd2c6c2005b:T=1596523822:S=ALNI_MZhdUG_e5KVdQLyxGd-QTgPh34YZg; xdid=0e1a2a2a-35f6-4831-a4f6-f3389ef1ca7a|1596523822|kr.hotels.com; xdidp=0e1a2a2a-35f6-4831-a4f6-f3389ef1ca7a|1596523822|kr.hotels.com; s_sq=%5B%5BB%5D%5D; visitId=edbcaa2e-4968-4009-ac85-383907b77d5f; SESSID=kmF9C5mRd1F3cSUDGpr_gCaDoZ.sa-6f74c7cf76-x4jn8; Session_Pageviews=6; _uetsid=c6e7370525e12b88d62d48ad3703a7c3; _uetvid=3363ca2720f5a4cef91d6a35a5ae68ab\",\n",
    "                #'pragma': 'no-cache',\n",
    "                #'cache-control': 'no-cache',\n",
    "                #'accept': 'application/json, text/javascript, */*; q=0.01',\n",
    "                #'accept-language': 'ko-KR,ko;q=0.9,en-US;q=0.8,en;q=0.7',\n",
    "                #'accept-encoding': 'gzip, deflate, br'\n",
    "\n",
    "            #     'cookie': 'channel=DC; 30dlt=seo.hcom.kr.b2.search.naver.com; guid=70b194a6-7d06-4407-813d-439ddc81e8b1; user=QSprb19LUnxIQ09NX0tS; akacd_pr_20=1601370854~rv=10~id=56b99db0bffa807a7ae68b57c1f84d62; _ga=GA1.2.262126391.1596186854; s_ecid=MCMID%7C18020916849438730392200037473831731739; _fbp=fb.1.1596186855014.1096204561; _gcl_au=1.1.2093965117.1596186855; __gads=ID=28a1f36c47d1b899:T=1596186855:S=ALNI_MbMfgFuOVpeHde-Lxvoqy6try5X3w; xdid=03a4919c-5c4e-476b-9704-1db0fd86a8cf|1596186857|kr.hotels.com; xdidp=23fa12ed-bf86-42d0-b153-3665d6e271eb|1596186754|expedia.co.kr; lastConsentChange=1596186857180; mvthistory=eJxNj0luRCEMRG%2BEKA942PampSiKlAtk%2Fe%2BQwwe%2B3a2seDyVyxA%2B1pjjYiTYN1GS2T5nSug4dHliQm63QQcdGQnswC2FeES01VnjG7yifDhaYhaYeYFTt7ih8pYIWbek6fEqIXYuRpISDVSYdFU5qWtD9PhiqRj2xcqOi5LfnwS0QaXaZfPiljZrnlNIeoQnqsdSZFFJRZfjsP1jL%2BbD0WHu1%2B9d4feu3%2Bfj6%2FPn4%2FsPA1NT2Q%3D%3D; bm_sz=9BD21E821845D51FA0D9B135BB256B3A~YAAQDXpGaMvdmYZzAQAA7BL3sgjXMidVKi2JZezEhByPD+UlXFPyGWEuydcxo7jaG5deLqOuRULrEn/lhgOo6iEtj0Wad9xJ0uolA4BJwtwL18+2xpptdBd8jS3LfCLmEC2uX/WB2NnK4m4x4mzrUm7mHQGUykHOubX9A0cqY4zyEdtY0AH0PZ63K2zYl6Mi; asc=1; dr=AAA~1596435404~4AF6F0445D3489A1E092F641066F96B93D40B40DDD943022EE1E98D4913A7C2F; _gid=GA1.2.1546820872.1596435403; AMCVS_C00802BE5330A8350A490D4C%40AdobeOrg=1; s_cc=true; _abck=0D541D156BC09BE7D94D3AADD67548B2~0~YAAQPpc7F7sM/YBzAQAA3mYGswS9B4zk5w3WOr8TTX6EdGFztlMwMx528/eu2Vz3EQaN3+8S3onODcjC4mo7KcYCpqKKLtj1ypt21eC/Yywv7637PKmn2lQ4e+wTFI7Sy3+QG9Y26Wqe65goPJIbp8xKgM9x1qhhWo0ZCFQnY6q5ei/AfEMj5eWcm5pUUd8yCmTmwU2Ed0icdnCyKmuepD4P5rE9Qog//nbnhsKAhm5Kdsy8YVfYcjxBPhm72gfx92QF61+SXsk7W2VFnJkZ3fUsxWSqVziuxqLi8F4uVoW7iZ6FlEin0WTebWhrTlHO9xBgc7tcAw==~-1~-1~-1; homepage_search_data=7KCc7KO864-ELCDsoJzso7zsi5wsIO2VnOq1rQ..%2F%2F2020%2F08%2F16%2F%2F2020%2F08%2F17%2F%2F1%2F%2Fyyyy%2FMM%2Fdd%2F%2F1644457%2F%2F; visitId=9c2e2fae-5554-4ea6-a40b-89f3d70f6305; SESSID=d1zQ1OkaL9VJyQvfYjWcg2o8sR.sa-665cf686c4-7q8g6; s_sq=%5B%5BB%5D%5D; aws=1; _gat=1; AMCV_C00802BE5330A8350A490D4C%40AdobeOrg=-1330315163%7CMCIDTS%7C18478%7CMCMID%7C18020916849438730392200037473831731739%7CMCAAMLH-1596791653%7C11%7CMCAAMB-1597047604%7CRKhpRz8krg2tLO6pguXWp5olkAcUniQYPHaMWWgdJ3xzPWQmdj0y%7CMCOPTOUT-1596450004s%7CNONE%7CMCAID%7CNONE; Session_Pageviews=14; _uetsid=f42780afb3dcaf6da3acf7261a71a6e4; _uetvid=26e44a5e73df2819b24f5fccdadd9add'\n",
    "            }\n",
    "\n",
    "            s = requests.Session()\n",
    "            resp=s.get(base_url,params=params,headers=headers)\n",
    "            items=json.loads(resp.text)\n",
    "\n",
    "\n",
    "            results=items['data']['body']['searchResults']['results']\n",
    "\n",
    "\n",
    "            hotels_list=[]\n",
    "\n",
    "            for i in range(len(results)):\n",
    "                hotels_names=items['data']['body']['searchResults']['results'][i]['name']\n",
    "                if ('guestReviews' in items['data']['body']['searchResults']['results'][i])==False:\n",
    "                    hotels_stars=0\n",
    "                else:\n",
    "                    hotels_stars=items['data']['body']['searchResults']['results'][i]['guestReviews']['rating']\n",
    "                    hotels_reviews=items['data']['body']['searchResults']['results'][i]['guestReviews']['total']\n",
    "                if ('soldOut' in items['data']['body']['searchResults']['results'][i])==False:\n",
    "                    hotels_prices=items['data']['body']['searchResults']['results'][i]['ratePlan']['price']['exactCurrent']\n",
    "                else:\n",
    "                    hotels_prices='SoldOut'\n",
    "\n",
    "                hotels_list.append({\n",
    "                    '이름': hotels_names,\n",
    "                    '평점': float(hotels_stars)/2,\n",
    "                    '리뷰 개수': int(hotels_reviews),\n",
    "                    '가격': int(hotels_prices),\n",
    "                    \"사이트\":\"호텔스닷컴\"})\n",
    "                    \n",
    "            for hotel in hotels_list:\n",
    "                if hotel not in result_list:\n",
    "                    result_list.append(hotel)\n",
    "\n",
    "        return result_list\n",
    "\n",
    "    \n",
    "#3\n",
    "\n",
    "    def yanolja(self):\n",
    "        result_list=[]\n",
    "        for page in range(1,self.pages+1):\n",
    "            base_url = \"https://www.yanolja.com/api/v1/contents/search\"\n",
    "            params = {\n",
    "                'capacityAdult':1,\n",
    "                'capacityChild':0,\n",
    "                'page':page,\n",
    "                'limit':20,\n",
    "                'keyword':self.place,\n",
    "                'checkinDate':self.checkin,\n",
    "                'checkoutDate':self.checkout,\n",
    "                'searchKeyword':self.place,\n",
    "                'advert': 'KEYWORD',\n",
    "                'searchType': 'all',\n",
    "                'all': 1,\n",
    "                'sort': 100,\n",
    "                'themes': None,\n",
    "                'lat': '37.50681',\n",
    "                'lng': '127.06624',\n",
    "                'capacityChildAges': None  \n",
    "            }\n",
    "\n",
    "            headers = {\n",
    "                'Referer' : 'https://www.yanolja.com/search/{0}?placeListType=search&keyword={0}'.format(urllib.parse.quote(self.place)),\n",
    "                'User-Agent' : 'Mozilla/5.0 (Windows NT 10.0; Win64; x64) AppleWebKit/537.36 (KHTML, like Gecko) Chrome/84.0.4147.105 Safari/537.36',\n",
    "                'X-Requested-With': 'XMLHttpRequest',\n",
    "                'Accept': 'application/json, text/plain, */*',\n",
    "                'Accept-Encoding': 'gzip, deflate, br',\n",
    "                'Accept-Language': 'ko-KR,ko;q=0.9,en-US;q=0.8,en;q=0.7',\n",
    "            #     'Cookie': 'ACEUCI=1; %2Fsearch%2F%EC%A0%9C%EC%A3%BC%EB%8F%84%2Fkeyword-all={%22keyword%22:%22%EC%A0%9C%EC%A3%BC%EB%8F%84%22%2C%22searchKeyword%22:%22%EC%A0%9C%EC%A3%BC%EB%8F%84%22%2C%22checkinDate%22:%222020-08-16%22%2C%22checkoutDate%22:%222020-08-17%22%2C%22capacityAdult%22:1%2C%22capacityChild%22:0%2C%22capacityChildAges%22:%22%22}; cgntId=ap-northeast-2%3A2b47caae-3694-44f0-9d2b-43c98b30c098; yanolja_sid=s%3A0K-pijLPMujuW6NI5cJVcGOYBO2FXY0h.ZwiC623ThkJsrpFM9m7MiLj%2F8qYFHr3272Xla0K8NCk; SavedFiltersKey=/search/%EC%A0%9C%EC%A3%BC%EB%8F%84/keyword-all; ACEUACS=1596521299174217533; ACEFCID=UID-5F28FB542D0B4D05779333B5; _fbp=fb.1.1596521300441.1991528559; _ga=GA1.2.1408952294.1596521300; _gid=GA1.2.788840749.1596521300; location={%22latitude%22:%2237.50681%22%2C%22longitude%22:%22127.06624%22%2C%22address%22:%22%EC%84%9C%EC%9A%B8%ED%8A%B9%EB%B3%84%EC%8B%9C%20%EA%B0%95%EB%82%A8%EA%B5%AC%20%ED%85%8C%ED%97%A4%EB%9E%80%EB%A1%9C108%EA%B8%B8%2042%22%2C%22addressShort%22:%22%EC%84%9C%EC%9A%B8%ED%8A%B9%EB%B3%84%EC%8B%9C%20%EA%B0%95%EB%82%A8%EA%B5%AC%20%ED%85%8C%ED%97%A4%EB%9E%80%EB%A1%9C108%EA%B8%B8%22%2C%22addressOnlyRoad%22:%22%ED%85%8C%ED%97%A4%EB%9E%80%EB%A1%9C108%EA%B8%B8%22}; wcs_bt=ae93a192ec48a4:1596521393; AWSALB=zm/Jfq0CVy83/Q/bcMcY2ADivgyVdh6KNQc6bG1tPs9SA7T5733p2wvOClRpxNMSodWkruizJEGIcJbThOG1sBYm+WURo+8cqojOGppWN4ykkwQMNbQuiwexg5Nx; AWSALBCORS=zm/Jfq0CVy83/Q/bcMcY2ADivgyVdh6KNQc6bG1tPs9SA7T5733p2wvOClRpxNMSodWkruizJEGIcJbThOG1sBYm+WURo+8cqojOGppWN4ykkwQMNbQuiwexg5Nx'\n",
    "            }\n",
    "\n",
    "            ## 호텔리스트가 홈페이지랑 다르게 나옴 -> 쿠키가 계속 갱신되는 것을 방지하기 위해 -> 처음 홈페이지에 들어가자마자의 쿠키를 저장해놓는다.\n",
    "            s = requests.Session()\n",
    "            s.get(\"https://www.yanolja.com/search/{0}?placeListType=search&keyword={0}\".format(self.place))\n",
    "            resp = s.get(base_url, params=params, headers=headers)\n",
    "            # resp = requests.get(base_url, params = params, headers=headers)\n",
    "\n",
    "\n",
    "            item_li = json.loads(resp.text)\n",
    "\n",
    "            item_list = []\n",
    "            #name_list = []\n",
    "            #score_list = []\n",
    "            #price_list = []\n",
    "\n",
    "\n",
    "            for i in range(20):\n",
    "                \n",
    "                \n",
    "\n",
    "                # 호텔 이름\n",
    "\n",
    "                name = item_li['motels']['lists'][i]['name']\n",
    "                #name_list.append(name)\n",
    "            #print(name_list)\n",
    "\n",
    "\n",
    "\n",
    "                # 호텔 점수\n",
    "\n",
    "                score = item_li['motels']['lists'][i]['reviewScore']\n",
    "                #score_list.append(score)\n",
    "            #print(score_list)\n",
    "\n",
    "\n",
    "\n",
    "                # 리뷰 개수\n",
    "\n",
    "                count = item_li['motels']['lists'][i]['reviewCounts']\n",
    "                #count_list.append(count)\n",
    "            #print(count_list)\n",
    "\n",
    "\n",
    "\n",
    "                # 호텔 가격 = > 예약마감이면 예약마감이 뜬다.\n",
    "\n",
    "                if len(item_li['motels']['lists'][i]['displayPrices']) == 1:\n",
    "                    if item_li['motels']['lists'][i]['displayPrices'][0]['priceNote'] == '예약마감':\n",
    "                        continue\n",
    "                        #price_list.append(price)\n",
    "\n",
    "                    else:\n",
    "                        price = item_li['motels']['lists'][i]['displayPrices'][0]['rawDiscountPrice']\n",
    "                        #price_list.append(price)\n",
    "\n",
    "                elif len(item_li['motels']['lists'][i]['displayPrices']) >= 2:\n",
    "                    for j in range(2):\n",
    "                        if item_li['motels']['lists'][i]['displayPrices'][j]['badgeText'] == '숙박특가':\n",
    "                            if item_li['motels']['lists'][i]['displayPrices'][j]['priceNote'] == '예약마감':\n",
    "                                continue\n",
    "                                #price_list.append(price)\n",
    "\n",
    "                            else:\n",
    "                                price = item_li['motels']['lists'][i]['displayPrices'][j]['rawDiscountPrice']\n",
    "                                #price_list.append(price)\n",
    "            #print(price_list)\n",
    "\n",
    "\n",
    "\n",
    "                item_list.append({'이름' : name, \n",
    "                                  '평점' : float(score),\n",
    "                                  '리뷰 개수' : int(count),\n",
    "                                '가격': price,\n",
    "                                \"사이트\":\"야놀자\"})\n",
    "                \n",
    "                \n",
    "            result_list.extend(item_list)    \n",
    "        return result_list    \n",
    "\n",
    "    \n",
    "    \n",
    "#4 \n",
    "\n",
    "    def booking(self):\n",
    "        base_url='https://www.booking.com/searchresults.ko.html'\n",
    "        total=[]\n",
    "        for i in range(self.pages):\n",
    "            params={\n",
    "            'top_ufis':1,\n",
    "            'rows':25,\n",
    "            'group_adults':1,\n",
    "            'group_children':0,\n",
    "            'label_click':'undef',\n",
    "            'checkin_month':self.checkin.split(\"-\")[1],\n",
    "            'checkin_monthday':self.checkin.split(\"-\")[2],\n",
    "            'checkin_year':self.checkin.split(\"-\")[0],\n",
    "            'checkout_month':self.checkout.split(\"-\")[1],\n",
    "            'checkout_monthday':self.checkout.split(\"-\")[2],\n",
    "            'checkout_year':self.checkout.split(\"-\")[0],\n",
    "            'no_rooms':1,\n",
    "            #'raw_dest_type':'region',\n",
    "            'offset':25*i,   \n",
    "            'sb_price_type': 'total',\n",
    "            'ss': self.place,\n",
    "            #'src_elem': 'sb', \n",
    "            #'ss_all':0,\n",
    "            #'ssb': 'empty',\n",
    "            #'dest_type': 'region',\n",
    "            #'search_pageview_id': 'b78a37b8196a0080'\n",
    "            'search_selected':1\n",
    "            }\n",
    "            headers = {\n",
    "                'Referer': 'https://www.booking.com/searchresults.ko.html',\n",
    "                'Cookie': 'cors_js=1; _gcl_au=1.1.1758010469.1596413772; bs=%7B%22sr_country_or_region_page%22%3A%22region%22%7D; _ga=GA1.2.882061434.1596413773; _gid=GA1.2.1846610763.1596413773; BJS=-; zz_cook_tms_seg1=1; zz_cook_tms_ep=1; zz_cook_tms_seg3=7; _scid=dff99b5d-2e14-4af2-9550-58237e3d9d4c; _pxvid=8ac1c871-d51e-11ea-b163-0242ac120009; _sctr=1|1596380400000; _pin_unauth=dWlkPU9UazVabVF4T1RRdE56bGhPQzAwTUdabUxXSm1ORFF0WldRMVptVmpNemRrWXpVdw; has_preloaded=1; zz_cook_tms_hlist=3317637; g_state={\"i_p\":1596531334237,\"i_l\":2}; utag_main=v_id:0173b1ad0651001df4a85a0a77f203073044706b00bd0$_sn:1$_ss:0$_st:1596448493168$4split:2$4split2:1$ses_id:1596413773394%3Bexp-session$_pn:16%3Bexp-session; _uetsid=f2d8e4c9c62246a0bed0af7e885f8c9f; _uetvid=269cfd473b2529680b9b538f1b46fbc1; bkng=11UmFuZG9tSVYkc2RlIyh9Yaa29%2F3xUOLbXpFeYC4TUhBdXo35xAS%2BPyXteEmAF00C7ntv3OHZGFN5Omw3tnwU%2F3rlk1nbz%2BONusrZE%2BcQgZLBk0JeBSBtWgSf%2BJ%2BC2ShbUfWTKv6cwfj%2FUbmattwzhSpTIYyiyIWa7e5d6rxwuVVQqabr7YAgMkH%2F%2Fu6fNsyuyQoTASDGyEw%3D; _px3=534b016a13eceb8dfd91bad5c3807ed4049eeef67f96ffa26e4b9b0710069380:RhcCPVe8GBdA9jMG9PvURiL0ylPlLetN980mHJcuwmC2w9omcccJP2dnTAIXjLyb5eVJcGGTsFBxUVGdCNCg6g==:1000:sGlUhQDbcD++cAinRcf8FQIrgXsopgDXZYkK7uRiQhuAUhE1XXniOrLt6s/Gb1GMVWTdokUn2mREYh+JnCAJ6PpWZsrVHgWYSaF8wEucBT9rs5PjjXKHUrT7Y6DZV/P832v9mal2qz9asNi/uf7Gt9o/kTvyVoqN90YhP8ivD2M=; _pxde=8e07b07f8b1c1d5d950a0e87a21708a96b04456fe969788c88d7c52548705a1e:eyJ0aW1lc3RhbXAiOjE1OTY0NDY3NjkxMjMsImZfa2IiOjAsImlwY19pZCI6W119; lastSeen=0',\n",
    "                'User-Agent': 'Mozilla/5.0 (Windows NT 10.0; Win64; x64) AppleWebKit/537.36 (KHTML, like Gecko) Chrome/84.0.4147.105 Safari/537.36'    }\n",
    "            resp=requests.get(base_url,params=params, headers=headers)\n",
    "            soup=bs(resp.text)\n",
    "\n",
    "        #     hotellist_inner=soup.find('div',id='hotellist_inner')\n",
    "        #     hotels=hotellist_inner.find_all('div', class_='sr_item')\n",
    "            hotels = soup.find_all('div', class_='sr_item')\n",
    "\n",
    "            hotel_list=[]\n",
    "            for hotel in hotels:        \n",
    "                names=hotel.find('span',class_='sr-hotel__name')\n",
    "                name=names.text#호텔이름\n",
    "                reviews=hotel.find('div',class_='bui-review-score__badge')\n",
    "                if reviews:\n",
    "                    review=reviews.text\n",
    "                else:\n",
    "                    review= None\n",
    "                prices=hotel.find('div',class_='bui-price-display__value')\n",
    "                price=prices.text\n",
    "\n",
    "                counts=hotel.find('div',class_='bui-review-score__text')\n",
    "                if counts:\n",
    "                    count = counts.text\n",
    "                else:\n",
    "                    count = 0\n",
    "                hotel_list.append({\n",
    "                    '이름':name,\n",
    "                    '평점':review,\n",
    "                    '리뷰 개수':count,\n",
    "                    '가격':price,\n",
    "                    \"사이트\":\"부킹 닷컴\"\n",
    "                })\n",
    "            total.extend(hotel_list)\n",
    "         #데이터 잔처리,중복제거   \n",
    "        for i in total:\n",
    "            try:\n",
    "                i['이름']=i['이름'].replace(\"\\n\",\"\").strip()\n",
    "                if i['평점']!=None:\n",
    "                    i['평점']=i['평점'].strip()\n",
    "                    i['평점']=float(i['평점'])/2\n",
    "                i['가격']=i['가격'].replace(\"\\n\",\"\").strip()\n",
    "                i['가격']=i['가격'].replace(\"₩\",\"\").strip()\n",
    "                if i['리뷰 개수']!=0:\n",
    "                    i['리뷰 개수']=i['리뷰 개수'].strip()\n",
    "                    a=i['리뷰 개수'].index('개')\n",
    "                    count_str = i['리뷰 개수'][0:a]\n",
    "                    count_str = count_str.replace(',', '')\n",
    "                    i['리뷰 개수']=int(count_str)\n",
    "                i['가격']=i['가격'].replace(',','')\n",
    "                i['가격']=int(i['가격'])\n",
    "            except Exception as e:\n",
    "                print(i)\n",
    "                print('---'*10)\n",
    "                raise e\n",
    "            #print(i)\n",
    "        result_list=list({s['이름']:s for s in total}.values()) \n",
    "        return result_list\n",
    "    \n",
    "    \n",
    "    \n",
    "    \n",
    "    def to_dataframe(self):\n",
    "        df1=pd.DataFrame(self.airbnb()[0])\n",
    "        df2=pd.DataFrame(self.hotels())\n",
    "        df3=pd.DataFrame(self.yanolja())\n",
    "        df4=pd.DataFrame(self.booking())\n",
    "        \n",
    "        result=df1.append([df2,df3,df4],ignore_index=True)\n",
    "        result= result[result[\"가격\"] != \"예약 마감\"]\n",
    "        result[\"가격\"].astype(\"int\")\n",
    "        result.drop_duplicates(inplace=True)\n",
    "        \n",
    "        min_price=result.loc[result[\"가격\"].idxmin()]\n",
    "        \n",
    "        return result, min_price\n",
    "    \n",
    "    \n",
    "#     def min_price(self):\n",
    "#         return self.to_dataframe().loc[self.to_dataframe()[\"가격\"].idxmin\n"
   ]
  },
  {
   "cell_type": "code",
   "execution_count": 3,
   "metadata": {},
   "outputs": [],
   "source": [
    "plt.rcParams['axes.unicode_minus']=False\n",
    "\n",
    "if platform.system()=='Darwin':\n",
    "    rc('font',family='AppleGothic')\n",
    "elif platform.system()=='Windows':\n",
    "    path='c:\\Windows/Fonts/malgun.ttf'\n",
    "    font_name=font_manager.FontProperties(fname=path).get_name()\n",
    "    rc('font',family=font_name)\n",
    "else:\n",
    "    print('-------------')"
   ]
  },
  {
   "cell_type": "code",
   "execution_count": 4,
   "metadata": {},
   "outputs": [],
   "source": [
    "search=Hotel('서울','2020-08-16','2020-08-17',10)"
   ]
  },
  {
   "cell_type": "code",
   "execution_count": 5,
   "metadata": {},
   "outputs": [
    {
     "name": "stderr",
     "output_type": "stream",
     "text": [
      "C:\\Users\\user\\.conda\\envs\\once\\lib\\site-packages\\pandas\\core\\ops\\array_ops.py:253: FutureWarning: elementwise comparison failed; returning scalar instead, but in the future will perform elementwise comparison\n",
      "  res_values = method(rvalues)\n"
     ]
    }
   ],
   "source": [
    "searching=search.to_dataframe()"
   ]
  },
  {
   "cell_type": "code",
   "execution_count": 6,
   "metadata": {},
   "outputs": [
    {
     "data": {
      "text/html": [
       "<div>\n",
       "<style scoped>\n",
       "    .dataframe tbody tr th:only-of-type {\n",
       "        vertical-align: middle;\n",
       "    }\n",
       "\n",
       "    .dataframe tbody tr th {\n",
       "        vertical-align: top;\n",
       "    }\n",
       "\n",
       "    .dataframe thead th {\n",
       "        text-align: right;\n",
       "    }\n",
       "</style>\n",
       "<table border=\"1\" class=\"dataframe\">\n",
       "  <thead>\n",
       "    <tr style=\"text-align: right;\">\n",
       "      <th></th>\n",
       "      <th>이름</th>\n",
       "      <th>평점</th>\n",
       "      <th>리뷰 개수</th>\n",
       "      <th>가격</th>\n",
       "      <th>사이트</th>\n",
       "    </tr>\n",
       "  </thead>\n",
       "  <tbody>\n",
       "    <tr>\n",
       "      <th>0</th>\n",
       "      <td>G-21 / Gangnam-Station / Private Room / Twin Beds</td>\n",
       "      <td>4.68</td>\n",
       "      <td>37</td>\n",
       "      <td>24954</td>\n",
       "      <td>AirBnb</td>\n",
       "    </tr>\n",
       "    <tr>\n",
       "      <th>1</th>\n",
       "      <td>크레토더블(7월~8월  14시 무료 체크아웃 연장)</td>\n",
       "      <td>4.80</td>\n",
       "      <td>59</td>\n",
       "      <td>71250</td>\n",
       "      <td>AirBnb</td>\n",
       "    </tr>\n",
       "    <tr>\n",
       "      <th>2</th>\n",
       "      <td>[여성 전용] 역삼역 그리고 고양이 두마리 (=ↀωↀ=)</td>\n",
       "      <td>4.84</td>\n",
       "      <td>70</td>\n",
       "      <td>49678</td>\n",
       "      <td>AirBnb</td>\n",
       "    </tr>\n",
       "    <tr>\n",
       "      <th>3</th>\n",
       "      <td>NEW SALE:❤of Myeong-dong明洞- Double w/ private ...</td>\n",
       "      <td>4.49</td>\n",
       "      <td>49</td>\n",
       "      <td>39280</td>\n",
       "      <td>AirBnb</td>\n",
       "    </tr>\n",
       "    <tr>\n",
       "      <th>4</th>\n",
       "      <td>[여성전용 개인실] 신축 투룸 빌라 건대입구,구의역과 가까운 숙소</td>\n",
       "      <td>4.34</td>\n",
       "      <td>180</td>\n",
       "      <td>25463</td>\n",
       "      <td>AirBnb</td>\n",
       "    </tr>\n",
       "    <tr>\n",
       "      <th>...</th>\n",
       "      <td>...</td>\n",
       "      <td>...</td>\n",
       "      <td>...</td>\n",
       "      <td>...</td>\n",
       "      <td>...</td>\n",
       "    </tr>\n",
       "    <tr>\n",
       "      <th>677</th>\n",
       "      <td>Hi Jun Guesthouse</td>\n",
       "      <td>4.65</td>\n",
       "      <td>173</td>\n",
       "      <td>32000</td>\n",
       "      <td>부킹 닷컴</td>\n",
       "    </tr>\n",
       "    <tr>\n",
       "      <th>678</th>\n",
       "      <td>필름 37.2</td>\n",
       "      <td>3.75</td>\n",
       "      <td>275</td>\n",
       "      <td>55000</td>\n",
       "      <td>부킹 닷컴</td>\n",
       "    </tr>\n",
       "    <tr>\n",
       "      <th>679</th>\n",
       "      <td>화웬 하우스 홍대</td>\n",
       "      <td>4.20</td>\n",
       "      <td>560</td>\n",
       "      <td>27200</td>\n",
       "      <td>부킹 닷컴</td>\n",
       "    </tr>\n",
       "    <tr>\n",
       "      <th>680</th>\n",
       "      <td>24 게스트하우스 서울시청점</td>\n",
       "      <td>3.80</td>\n",
       "      <td>277</td>\n",
       "      <td>18900</td>\n",
       "      <td>부킹 닷컴</td>\n",
       "    </tr>\n",
       "    <tr>\n",
       "      <th>681</th>\n",
       "      <td>DW 디자인 레지던스</td>\n",
       "      <td>4.50</td>\n",
       "      <td>118</td>\n",
       "      <td>79040</td>\n",
       "      <td>부킹 닷컴</td>\n",
       "    </tr>\n",
       "  </tbody>\n",
       "</table>\n",
       "<p>679 rows × 5 columns</p>\n",
       "</div>"
      ],
      "text/plain": [
       "                                                    이름    평점  리뷰 개수     가격  \\\n",
       "0    G-21 / Gangnam-Station / Private Room / Twin Beds  4.68     37  24954   \n",
       "1                         크레토더블(7월~8월  14시 무료 체크아웃 연장)  4.80     59  71250   \n",
       "2                      [여성 전용] 역삼역 그리고 고양이 두마리 (=ↀωↀ=)  4.84     70  49678   \n",
       "3    NEW SALE:❤of Myeong-dong明洞- Double w/ private ...  4.49     49  39280   \n",
       "4                 [여성전용 개인실] 신축 투룸 빌라 건대입구,구의역과 가까운 숙소  4.34    180  25463   \n",
       "..                                                 ...   ...    ...    ...   \n",
       "677                                  Hi Jun Guesthouse  4.65    173  32000   \n",
       "678                                            필름 37.2  3.75    275  55000   \n",
       "679                                          화웬 하우스 홍대  4.20    560  27200   \n",
       "680                                    24 게스트하우스 서울시청점  3.80    277  18900   \n",
       "681                                        DW 디자인 레지던스  4.50    118  79040   \n",
       "\n",
       "        사이트  \n",
       "0    AirBnb  \n",
       "1    AirBnb  \n",
       "2    AirBnb  \n",
       "3    AirBnb  \n",
       "4    AirBnb  \n",
       "..      ...  \n",
       "677   부킹 닷컴  \n",
       "678   부킹 닷컴  \n",
       "679   부킹 닷컴  \n",
       "680   부킹 닷컴  \n",
       "681   부킹 닷컴  \n",
       "\n",
       "[679 rows x 5 columns]"
      ]
     },
     "execution_count": 6,
     "metadata": {},
     "output_type": "execute_result"
    }
   ],
   "source": [
    "searching[0]"
   ]
  },
  {
   "cell_type": "code",
   "execution_count": 7,
   "metadata": {},
   "outputs": [],
   "source": [
    "hotel_search=searching[0][searching[0]['리뷰 개수']>=30]"
   ]
  },
  {
   "cell_type": "code",
   "execution_count": 8,
   "metadata": {},
   "outputs": [
    {
     "name": "stdout",
     "output_type": "stream",
     "text": [
      "<class 'pandas.core.frame.DataFrame'>\n",
      "Int64Index: 524 entries, 0 to 681\n",
      "Data columns (total 5 columns):\n",
      " #   Column  Non-Null Count  Dtype  \n",
      "---  ------  --------------  -----  \n",
      " 0   이름      524 non-null    object \n",
      " 1   평점      524 non-null    float64\n",
      " 2   리뷰 개수   524 non-null    int64  \n",
      " 3   가격      524 non-null    int64  \n",
      " 4   사이트     524 non-null    object \n",
      "dtypes: float64(1), int64(2), object(2)\n",
      "memory usage: 24.6+ KB\n"
     ]
    }
   ],
   "source": [
    "hotel_search.info() #리뷰개수 30 이상인 것들을 모음."
   ]
  },
  {
   "cell_type": "code",
   "execution_count": 9,
   "metadata": {},
   "outputs": [
    {
     "data": {
      "text/html": [
       "<div>\n",
       "<style scoped>\n",
       "    .dataframe tbody tr th:only-of-type {\n",
       "        vertical-align: middle;\n",
       "    }\n",
       "\n",
       "    .dataframe tbody tr th {\n",
       "        vertical-align: top;\n",
       "    }\n",
       "\n",
       "    .dataframe thead th {\n",
       "        text-align: right;\n",
       "    }\n",
       "</style>\n",
       "<table border=\"1\" class=\"dataframe\">\n",
       "  <thead>\n",
       "    <tr style=\"text-align: right;\">\n",
       "      <th></th>\n",
       "      <th>평점</th>\n",
       "      <th>리뷰 개수</th>\n",
       "      <th>가격</th>\n",
       "    </tr>\n",
       "  </thead>\n",
       "  <tbody>\n",
       "    <tr>\n",
       "      <th>count</th>\n",
       "      <td>524.000000</td>\n",
       "      <td>524.000000</td>\n",
       "      <td>524.000000</td>\n",
       "    </tr>\n",
       "    <tr>\n",
       "      <th>mean</th>\n",
       "      <td>4.337004</td>\n",
       "      <td>650.977099</td>\n",
       "      <td>87299.000000</td>\n",
       "    </tr>\n",
       "    <tr>\n",
       "      <th>std</th>\n",
       "      <td>0.426956</td>\n",
       "      <td>935.877868</td>\n",
       "      <td>75387.231552</td>\n",
       "    </tr>\n",
       "    <tr>\n",
       "      <th>min</th>\n",
       "      <td>0.000000</td>\n",
       "      <td>30.000000</td>\n",
       "      <td>6545.000000</td>\n",
       "    </tr>\n",
       "    <tr>\n",
       "      <th>25%</th>\n",
       "      <td>4.100000</td>\n",
       "      <td>120.750000</td>\n",
       "      <td>45000.000000</td>\n",
       "    </tr>\n",
       "    <tr>\n",
       "      <th>50%</th>\n",
       "      <td>4.400000</td>\n",
       "      <td>378.500000</td>\n",
       "      <td>69379.000000</td>\n",
       "    </tr>\n",
       "    <tr>\n",
       "      <th>75%</th>\n",
       "      <td>4.680000</td>\n",
       "      <td>826.750000</td>\n",
       "      <td>102626.500000</td>\n",
       "    </tr>\n",
       "    <tr>\n",
       "      <th>max</th>\n",
       "      <td>5.000000</td>\n",
       "      <td>10105.000000</td>\n",
       "      <td>638000.000000</td>\n",
       "    </tr>\n",
       "  </tbody>\n",
       "</table>\n",
       "</div>"
      ],
      "text/plain": [
       "               평점         리뷰 개수             가격\n",
       "count  524.000000    524.000000     524.000000\n",
       "mean     4.337004    650.977099   87299.000000\n",
       "std      0.426956    935.877868   75387.231552\n",
       "min      0.000000     30.000000    6545.000000\n",
       "25%      4.100000    120.750000   45000.000000\n",
       "50%      4.400000    378.500000   69379.000000\n",
       "75%      4.680000    826.750000  102626.500000\n",
       "max      5.000000  10105.000000  638000.000000"
      ]
     },
     "execution_count": 9,
     "metadata": {},
     "output_type": "execute_result"
    }
   ],
   "source": [
    "hotel_search.describe()"
   ]
  },
  {
   "cell_type": "markdown",
   "metadata": {},
   "source": [
    "# 시각화"
   ]
  },
  {
   "cell_type": "code",
   "execution_count": 33,
   "metadata": {},
   "outputs": [
    {
     "data": {
      "image/png": "[encoded data removed]",
      "text/plain": [
       "<Figure size 1080x1080 with 4 Axes>"
      ]
     },
     "metadata": {
      "needs_background": "light"
     },
     "output_type": "display_data"
    }
   ],
   "source": [
    "hotel_search.hist(figsize=(15,15))\n",
    "plt.show()"
   ]
  },
  {
   "cell_type": "code",
   "execution_count": 13,
   "metadata": {},
   "outputs": [],
   "source": [
    "#df=hotel_search.iloc[:,1:4]"
   ]
  },
  {
   "cell_type": "code",
   "execution_count": 14,
   "metadata": {},
   "outputs": [
    {
     "data": {
      "text/html": [
       "<div>\n",
       "<style scoped>\n",
       "    .dataframe tbody tr th:only-of-type {\n",
       "        vertical-align: middle;\n",
       "    }\n",
       "\n",
       "    .dataframe tbody tr th {\n",
       "        vertical-align: top;\n",
       "    }\n",
       "\n",
       "    .dataframe thead th {\n",
       "        text-align: right;\n",
       "    }\n",
       "</style>\n",
       "<table border=\"1\" class=\"dataframe\">\n",
       "  <thead>\n",
       "    <tr style=\"text-align: right;\">\n",
       "      <th></th>\n",
       "      <th>평점</th>\n",
       "      <th>리뷰 개수</th>\n",
       "      <th>가격</th>\n",
       "    </tr>\n",
       "  </thead>\n",
       "  <tbody>\n",
       "    <tr>\n",
       "      <th>0</th>\n",
       "      <td>4.68</td>\n",
       "      <td>37</td>\n",
       "      <td>24954</td>\n",
       "    </tr>\n",
       "    <tr>\n",
       "      <th>1</th>\n",
       "      <td>4.80</td>\n",
       "      <td>59</td>\n",
       "      <td>71250</td>\n",
       "    </tr>\n",
       "    <tr>\n",
       "      <th>2</th>\n",
       "      <td>4.84</td>\n",
       "      <td>70</td>\n",
       "      <td>49678</td>\n",
       "    </tr>\n",
       "    <tr>\n",
       "      <th>3</th>\n",
       "      <td>4.49</td>\n",
       "      <td>49</td>\n",
       "      <td>39280</td>\n",
       "    </tr>\n",
       "    <tr>\n",
       "      <th>4</th>\n",
       "      <td>4.34</td>\n",
       "      <td>180</td>\n",
       "      <td>25463</td>\n",
       "    </tr>\n",
       "    <tr>\n",
       "      <th>...</th>\n",
       "      <td>...</td>\n",
       "      <td>...</td>\n",
       "      <td>...</td>\n",
       "    </tr>\n",
       "    <tr>\n",
       "      <th>677</th>\n",
       "      <td>4.65</td>\n",
       "      <td>173</td>\n",
       "      <td>32000</td>\n",
       "    </tr>\n",
       "    <tr>\n",
       "      <th>678</th>\n",
       "      <td>3.75</td>\n",
       "      <td>275</td>\n",
       "      <td>55000</td>\n",
       "    </tr>\n",
       "    <tr>\n",
       "      <th>679</th>\n",
       "      <td>4.20</td>\n",
       "      <td>560</td>\n",
       "      <td>27200</td>\n",
       "    </tr>\n",
       "    <tr>\n",
       "      <th>680</th>\n",
       "      <td>3.80</td>\n",
       "      <td>277</td>\n",
       "      <td>18900</td>\n",
       "    </tr>\n",
       "    <tr>\n",
       "      <th>681</th>\n",
       "      <td>4.50</td>\n",
       "      <td>118</td>\n",
       "      <td>79040</td>\n",
       "    </tr>\n",
       "  </tbody>\n",
       "</table>\n",
       "<p>524 rows × 3 columns</p>\n",
       "</div>"
      ],
      "text/plain": [
       "       평점  리뷰 개수     가격\n",
       "0    4.68     37  24954\n",
       "1    4.80     59  71250\n",
       "2    4.84     70  49678\n",
       "3    4.49     49  39280\n",
       "4    4.34    180  25463\n",
       "..    ...    ...    ...\n",
       "677  4.65    173  32000\n",
       "678  3.75    275  55000\n",
       "679  4.20    560  27200\n",
       "680  3.80    277  18900\n",
       "681  4.50    118  79040\n",
       "\n",
       "[524 rows x 3 columns]"
      ]
     },
     "execution_count": 14,
     "metadata": {},
     "output_type": "execute_result"
    }
   ],
   "source": [
    "#df"
   ]
  },
  {
   "cell_type": "code",
   "execution_count": 15,
   "metadata": {},
   "outputs": [
    {
     "data": {
      "text/plain": [
       "부킹 닷컴     245\n",
       "야놀자       100\n",
       "호텔스닷컴      92\n",
       "AirBnb     87\n",
       "Name: 사이트, dtype: int64"
      ]
     },
     "execution_count": 15,
     "metadata": {},
     "output_type": "execute_result"
    }
   ],
   "source": [
    "ht=hotel_search['사이트'].value_counts()\n",
    "ht"
   ]
  },
  {
   "cell_type": "code",
   "execution_count": 16,
   "metadata": {},
   "outputs": [
    {
     "data": {
      "text/plain": [
       "<matplotlib.axes._subplots.AxesSubplot at 0x19fd5c94220>"
      ]
     },
     "execution_count": 16,
     "metadata": {},
     "output_type": "execute_result"
    },
    {
     "data": {
      "image/png": "[encoded data removed]",
      "text/plain": [
       "<Figure size 432x288 with 1 Axes>"
      ]
     },
     "metadata": {},
     "output_type": "display_data"
    }
   ],
   "source": [
    "ht.plot.pie()"
   ]
  },
  {
   "cell_type": "code",
   "execution_count": 18,
   "metadata": {},
   "outputs": [
    {
     "data": {
      "text/plain": [
       "Text(0.5, 1.0, '서울 호텔 검색 결과')"
      ]
     },
     "execution_count": 18,
     "metadata": {},
     "output_type": "execute_result"
    },
    {
     "data": {
      "image/png": "[encoded data removed]",
      "text/plain": [
       "<Figure size 360x360 with 1 Axes>"
      ]
     },
     "metadata": {},
     "output_type": "display_data"
    }
   ],
   "source": [
    "explode_value = (0.1, 0, 0, 0)\n",
    "fruit_pie = ht.plot.pie(figsize=(5, 5), autopct='%.1f%%', startangle=90, \n",
    "    counterclock = False, explode=explode_value, shadow=True, table=True)\n",
    "fruit_pie.set_ylabel(\"\") # 불필요한 y축 라벨 제거\n",
    "fruit_pie.set_title(\"서울 호텔 검색 결과\")"
   ]
  },
  {
   "cell_type": "markdown",
   "metadata": {},
   "source": [
    "## 사이트별 요소간의 상관관계 "
   ]
  },
  {
   "cell_type": "code",
   "execution_count": 19,
   "metadata": {},
   "outputs": [],
   "source": [
    "yanolja=hotel_search[hotel_search['사이트']=='야놀자']['평점']\n",
    "hotels=hotel_search[hotel_search['사이트']=='호텔스닷컴']['평점']\n",
    "booking=hotel_search[hotel_search['사이트']=='부킹 닷컴']['평점']\n",
    "airbnb=hotel_search[hotel_search['사이트']=='AirBnb']['평점']\n",
    "\n",
    "yanolja_p=hotel_search[hotel_search['사이트']=='야놀자']['가격']\n",
    "hotels_p=hotel_search[hotel_search['사이트']=='호텔스닷컴']['가격']\n",
    "booking_p=hotel_search[hotel_search['사이트']=='부킹 닷컴']['가격']\n",
    "airbnb_p=hotel_search[hotel_search['사이트']=='AirBnb']['가격']\n",
    "\n",
    "yanolja_r=hotel_search[hotel_search['사이트']=='야놀자']['리뷰 개수']\n",
    "hotels_r=hotel_search[hotel_search['사이트']=='호텔스닷컴']['리뷰 개수']\n",
    "booking_r=hotel_search[hotel_search['사이트']=='부킹 닷컴']['리뷰 개수']\n",
    "airbnb_r=hotel_search[hotel_search['사이트']=='AirBnb']['리뷰 개수']\n",
    "\n",
    "reviews=hotel_search['리뷰 개수']\n",
    "prices=hotel_search['가격']\n",
    "comment=hotel_search['평점']"
   ]
  },
  {
   "cell_type": "code",
   "execution_count": 29,
   "metadata": {},
   "outputs": [
    {
     "data": {
      "image/png": "[encoded data removed]",
      "text/plain": [
       "<Figure size 720x720 with 1 Axes>"
      ]
     },
     "metadata": {
      "needs_background": "light"
     },
     "output_type": "display_data"
    }
   ],
   "source": [
    "plt.figure(figsize=(10,10))\n",
    "plt.plot(yanolja_p,yanolja_r,'^g',label='야놀자')\n",
    "plt.xlabel('가격')\n",
    "plt.ylabel('리뷰 개수')\n",
    "plt.legend()\n",
    "\n",
    "plt.plot(hotels_p,hotels_r,'^k',label='호텔스닷컴',alpha=0.7)\n",
    "plt.xlabel('가격')\n",
    "plt.ylabel('리뷰 개수')\n",
    "plt.legend()\n",
    "\n",
    "plt.plot(booking_p,booking_r,'^m',label='부킹 닷컴',alpha=0.5)\n",
    "plt.xlabel('가격')\n",
    "plt.ylabel('리뷰 개수')\n",
    "plt.legend()\n",
    "plt.plot(airbnb_p,airbnb_r,'or',label='AirBnb')\n",
    "plt.xlabel('가격')\n",
    "plt.ylabel('리뷰 개수')\n",
    "plt.legend()\n",
    "plt.show()"
   ]
  },
  {
   "cell_type": "code",
   "execution_count": 30,
   "metadata": {},
   "outputs": [
    {
     "data": {
      "image/png": "[encoded data removed]",
      "text/plain": [
       "<Figure size 720x720 with 1 Axes>"
      ]
     },
     "metadata": {
      "needs_background": "light"
     },
     "output_type": "display_data"
    }
   ],
   "source": [
    "plt.figure(figsize=(10,10))\n",
    "plt.xlim(2.5,5)\n",
    "plt.plot(yanolja,yanolja_r,'^g',label='야놀자')\n",
    "plt.legend()\n",
    "plt.xlabel('평점')\n",
    "plt.ylabel('리뷰 개수')\n",
    "\n",
    "\n",
    "plt.plot(hotels,hotels_r,'*k',label='호텔스닷컴',alpha=0.7)\n",
    "plt.legend()\n",
    "plt.xlabel('평점')\n",
    "plt.ylabel('리뷰 개수')\n",
    "\n",
    "\n",
    "plt.plot(booking,booking_r,'^m',label='부킹 닷컴')\n",
    "plt.legend()\n",
    "plt.xlabel('평점')\n",
    "plt.ylabel('리뷰 개수')\n",
    "\n",
    "\n",
    "plt.plot(airbnb,airbnb_r,'or',label='AirBnb')\n",
    "plt.legend()\n",
    "plt.xlabel('평점')\n",
    "plt.ylabel('리뷰 개수')\n",
    "\n",
    "plt.show()"
   ]
  },
  {
   "cell_type": "code",
   "execution_count": 31,
   "metadata": {},
   "outputs": [
    {
     "data": {
      "image/png": "[encoded data removed]",
      "text/plain": [
       "<Figure size 720x720 with 1 Axes>"
      ]
     },
     "metadata": {
      "needs_background": "light"
     },
     "output_type": "display_data"
    }
   ],
   "source": [
    "plt.figure(figsize=(10,10))\n",
    "plt.xlim(2.5,5)\n",
    "plt.ylim(10000,600000)\n",
    "plt.plot(yanolja,yanolja_p,'^g',label='야놀자')\n",
    "plt.legend()\n",
    "plt.xlabel('평점')\n",
    "plt.ylabel('가격')\n",
    "\n",
    "\n",
    "plt.plot(hotels,hotels_p,'*k',label='호텔스닷컴',alpha=0.7)\n",
    "plt.legend()\n",
    "plt.xlabel('평점')\n",
    "plt.ylabel('가격')\n",
    "\n",
    "\n",
    "plt.plot(booking,booking_p,'^m',label='부킹 닷컴')\n",
    "plt.legend()\n",
    "plt.xlabel('평점')\n",
    "plt.ylabel('가격')\n",
    "\n",
    "\n",
    "plt.plot(airbnb,airbnb_p,'or',label='AirBnb')\n",
    "plt.legend()\n",
    "plt.xlabel('평점')\n",
    "plt.ylabel('가격')\n",
    "\n",
    "plt.show()"
   ]
  },
  {
   "cell_type": "markdown",
   "metadata": {},
   "source": [
    "## 요소간의 상관관계"
   ]
  },
  {
   "cell_type": "code",
   "execution_count": 24,
   "metadata": {},
   "outputs": [
    {
     "data": {
      "image/png": "[encoded data removed]",
      "text/plain": [
       "<Figure size 432x288 with 1 Axes>"
      ]
     },
     "metadata": {
      "needs_background": "light"
     },
     "output_type": "display_data"
    }
   ],
   "source": [
    "plt.xlim(2.5,5)\n",
    "plt.scatter(hotel_search['평점'],hotel_search['가격'])\n",
    "plt.xlabel('평점')\n",
    "plt.ylabel('가격')\n",
    "plt.show()"
   ]
  },
  {
   "cell_type": "code",
   "execution_count": 25,
   "metadata": {},
   "outputs": [
    {
     "data": {
      "image/png": "[encoded data removed]",
      "text/plain": [
       "<Figure size 432x288 with 1 Axes>"
      ]
     },
     "metadata": {
      "needs_background": "light"
     },
     "output_type": "display_data"
    }
   ],
   "source": [
    "plt.xlim(2.5,5)\n",
    "plt.scatter(hotel_search['평점'],hotel_search['리뷰 개수'])\n",
    "plt.xlabel('평점')\n",
    "plt.ylabel('리뷰 개수')\n",
    "plt.show()"
   ]
  },
  {
   "cell_type": "code",
   "execution_count": 26,
   "metadata": {},
   "outputs": [
    {
     "data": {
      "image/png": "[encoded data removed]",
      "text/plain": [
       "<Figure size 432x288 with 1 Axes>"
      ]
     },
     "metadata": {
      "needs_background": "light"
     },
     "output_type": "display_data"
    }
   ],
   "source": [
    "plt.scatter(hotel_search['가격'],hotel_search['리뷰 개수'])\n",
    "plt.xlabel('가격')\n",
    "plt.ylabel('리뷰 개수')\n",
    "plt.show()"
   ]
  },
  {
   "cell_type": "code",
   "execution_count": 27,
   "metadata": {},
   "outputs": [
    {
     "data": {
      "text/plain": [
       "이름       김치 신촌 게스트하우스\n",
       "평점                3.8\n",
       "리뷰 개수            1608\n",
       "가격               6545\n",
       "사이트             부킹 닷컴\n",
       "Name: 516, dtype: object"
      ]
     },
     "execution_count": 27,
     "metadata": {},
     "output_type": "execute_result"
    }
   ],
   "source": [
    "searching[1]"
   ]
  },
  {
   "cell_type": "code",
   "execution_count": 12,
   "metadata": {},
   "outputs": [
    {
     "data": {
      "text/plain": [
       "<seaborn.axisgrid.PairGrid at 0x19fd790af10>"
      ]
     },
     "execution_count": 12,
     "metadata": {},
     "output_type": "execute_result"
    },
    {
     "data": {
      "image/png": "[encoded data removed]",
      "text/plain": [
       "<Figure size 540x540 with 12 Axes>"
      ]
     },
     "metadata": {
      "needs_background": "light"
     },
     "output_type": "display_data"
    }
   ],
   "source": [
    "import seaborn as sns\n",
    "sns.pairplot(hotel_search)"
   ]
  },
  {
   "cell_type": "code",
   "execution_count": 38,
   "metadata": {},
   "outputs": [
    {
     "data": {
      "text/plain": [
       "가격       1.000000\n",
       "평점       0.141720\n",
       "리뷰 개수    0.008655\n",
       "Name: 가격, dtype: float64"
      ]
     },
     "execution_count": 38,
     "metadata": {},
     "output_type": "execute_result"
    }
   ],
   "source": [
    "hotel_search.corr()['가격'].sort_values(ascending=False)"
   ]
  },
  {
   "cell_type": "code",
   "execution_count": 39,
   "metadata": {},
   "outputs": [
    {
     "data": {
      "text/plain": [
       "평점       1.000000\n",
       "가격       0.141720\n",
       "리뷰 개수    0.077917\n",
       "Name: 평점, dtype: float64"
      ]
     },
     "execution_count": 39,
     "metadata": {},
     "output_type": "execute_result"
    }
   ],
   "source": [
    "hotel_search.corr()['평점'].sort_values(ascending=False)"
   ]
  },
  {
   "cell_type": "code",
   "execution_count": 40,
   "metadata": {},
   "outputs": [
    {
     "data": {
      "text/plain": [
       "리뷰 개수    1.000000\n",
       "평점       0.077917\n",
       "가격       0.008655\n",
       "Name: 리뷰 개수, dtype: float64"
      ]
     },
     "execution_count": 40,
     "metadata": {},
     "output_type": "execute_result"
    }
   ],
   "source": [
    "hotel_search.corr()['리뷰 개수'].sort_values(ascending=False)"
   ]
  },
  {
   "cell_type": "code",
   "execution_count": 41,
   "metadata": {},
   "outputs": [
    {
     "data": {
      "text/plain": [
       "<matplotlib.axes._subplots.AxesSubplot at 0x19fd5ff7220>"
      ]
     },
     "execution_count": 41,
     "metadata": {},
     "output_type": "execute_result"
    },
    {
     "data": {
      "image/png": "[encoded data removed]",
      "text/plain": [
       "<Figure size 432x288 with 2 Axes>"
      ]
     },
     "metadata": {
      "needs_background": "light"
     },
     "output_type": "display_data"
    }
   ],
   "source": [
    "sns.heatmap(hotel_search.corr(), square=True, annot=True)"
   ]
  },
  {
   "cell_type": "code",
   "execution_count": null,
   "metadata": {},
   "outputs": [],
   "source": []
  }
 ],
 "metadata": {
  "kernelspec": {
   "display_name": "Python 3",
   "language": "python",
   "name": "python3"
  },
  "language_info": {
   "codemirror_mode": {
    "name": "ipython",
    "version": 3
   },
   "file_extension": ".py",
   "mimetype": "text/x-python",
   "name": "python",
   "nbconvert_exporter": "python",
   "pygments_lexer": "ipython3",
   "version": "3.8.3"
  }
 },
 "nbformat": 4,
 "nbformat_minor": 4
}
